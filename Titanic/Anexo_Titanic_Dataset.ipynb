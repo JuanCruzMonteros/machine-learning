{
  "cells": [
    {
      "cell_type": "markdown",
      "id": "4b2e66bb",
      "metadata": {
        "id": "4b2e66bb"
      },
      "source": [
        "# Titanic Dataset: Preprocesamiento\n",
        "\n",
        "Veamos un ejemplo de preprocesamiento sobre el dataset del famoso barco hundido en el año 1912, el Titanic.\n",
        "\n",
        "El dataset brinda información sobre los pasajeros del Titanic, como sus edades, género, número de hermanos, esposas, hijos, padres dentro del barco, puntos de embarque y si sobrevivieron o no al desastre.\n",
        "\n",
        "En base a estas características, el objetivo de un posible proyecto de Machine Learning podría ser predecir si un pasajero arbitrario en el Titanic sobreviviría o no al hundimiento.\n",
        "\n",
        "En este primer ejemplo vamos a analizar el dataset, entendiendo mejor los features que lo componen, observando relaciones entre ellos, buscando errores, datos faltantes, entre otros.\n"
      ]
    },
    {
      "cell_type": "code",
      "execution_count": null,
      "id": "c280bcac",
      "metadata": {
        "id": "c280bcac"
      },
      "outputs": [],
      "source": [
        "#Importamos todas las librerias necesarias para resolver el problema\n",
        "import numpy as np\n",
        "import pandas as pd\n",
        "import seaborn as sns\n",
        "import matplotlib.pyplot as plt\n",
        "from matplotlib import style\n",
        "\n",
        "# Codigo para definir el estilo de los graficos de matplotlib\n",
        "style.use('fivethirtyeight')\n",
        "plt.rc('xtick',labelsize=8)\n",
        "plt.rc('ytick',labelsize=8)"
      ]
    },
    {
      "cell_type": "markdown",
      "id": "2d4ea9b1",
      "metadata": {
        "id": "2d4ea9b1"
      },
      "source": [
        "Ahora podemos levantar en un pandas.DataFrame el archivo donde se encuentra el dataset y observar los primeros ejemplos."
      ]
    },
    {
      "cell_type": "code",
      "execution_count": null,
      "id": "954ef09a",
      "metadata": {
        "colab": {
          "base_uri": "https://localhost:8080/",
          "height": 356
        },
        "id": "954ef09a",
        "outputId": "b9757fbf-0d09-4b7e-c355-e207a6df8e15"
      },
      "outputs": [
        {
          "output_type": "error",
          "ename": "FileNotFoundError",
          "evalue": "[Errno 2] No such file or directory: '/root/titanic.csv'",
          "traceback": [
            "\u001b[0;31m---------------------------------------------------------------------------\u001b[0m",
            "\u001b[0;31mFileNotFoundError\u001b[0m                         Traceback (most recent call last)",
            "\u001b[0;32m/tmp/ipython-input-2-3904605516.py\u001b[0m in \u001b[0;36m<cell line: 0>\u001b[0;34m()\u001b[0m\n\u001b[1;32m      1\u001b[0m \u001b[0;31m# Leemos el archivo .csv\u001b[0m\u001b[0;34m\u001b[0m\u001b[0;34m\u001b[0m\u001b[0m\n\u001b[1;32m      2\u001b[0m \u001b[0;31m# ATENCION: REEMPLAZAR POR EL PATH DONDE SE ENCUENTRE EL ARCHIVO\u001b[0m\u001b[0;34m\u001b[0m\u001b[0;34m\u001b[0m\u001b[0m\n\u001b[0;32m----> 3\u001b[0;31m \u001b[0mtitanic\u001b[0m\u001b[0;34m=\u001b[0m\u001b[0mpd\u001b[0m\u001b[0;34m.\u001b[0m\u001b[0mread_csv\u001b[0m\u001b[0;34m(\u001b[0m\u001b[0;34m'~/titanic.csv'\u001b[0m\u001b[0;34m)\u001b[0m\u001b[0;34m\u001b[0m\u001b[0;34m\u001b[0m\u001b[0m\n\u001b[0m\u001b[1;32m      4\u001b[0m \u001b[0;34m\u001b[0m\u001b[0m\n\u001b[1;32m      5\u001b[0m \u001b[0;31m# Observamos los 5 primeros elementos\u001b[0m\u001b[0;34m\u001b[0m\u001b[0;34m\u001b[0m\u001b[0m\n",
            "\u001b[0;32m/usr/local/lib/python3.11/dist-packages/pandas/io/parsers/readers.py\u001b[0m in \u001b[0;36mread_csv\u001b[0;34m(filepath_or_buffer, sep, delimiter, header, names, index_col, usecols, dtype, engine, converters, true_values, false_values, skipinitialspace, skiprows, skipfooter, nrows, na_values, keep_default_na, na_filter, verbose, skip_blank_lines, parse_dates, infer_datetime_format, keep_date_col, date_parser, date_format, dayfirst, cache_dates, iterator, chunksize, compression, thousands, decimal, lineterminator, quotechar, quoting, doublequote, escapechar, comment, encoding, encoding_errors, dialect, on_bad_lines, delim_whitespace, low_memory, memory_map, float_precision, storage_options, dtype_backend)\u001b[0m\n\u001b[1;32m   1024\u001b[0m     \u001b[0mkwds\u001b[0m\u001b[0;34m.\u001b[0m\u001b[0mupdate\u001b[0m\u001b[0;34m(\u001b[0m\u001b[0mkwds_defaults\u001b[0m\u001b[0;34m)\u001b[0m\u001b[0;34m\u001b[0m\u001b[0;34m\u001b[0m\u001b[0m\n\u001b[1;32m   1025\u001b[0m \u001b[0;34m\u001b[0m\u001b[0m\n\u001b[0;32m-> 1026\u001b[0;31m     \u001b[0;32mreturn\u001b[0m \u001b[0m_read\u001b[0m\u001b[0;34m(\u001b[0m\u001b[0mfilepath_or_buffer\u001b[0m\u001b[0;34m,\u001b[0m \u001b[0mkwds\u001b[0m\u001b[0;34m)\u001b[0m\u001b[0;34m\u001b[0m\u001b[0;34m\u001b[0m\u001b[0m\n\u001b[0m\u001b[1;32m   1027\u001b[0m \u001b[0;34m\u001b[0m\u001b[0m\n\u001b[1;32m   1028\u001b[0m \u001b[0;34m\u001b[0m\u001b[0m\n",
            "\u001b[0;32m/usr/local/lib/python3.11/dist-packages/pandas/io/parsers/readers.py\u001b[0m in \u001b[0;36m_read\u001b[0;34m(filepath_or_buffer, kwds)\u001b[0m\n\u001b[1;32m    618\u001b[0m \u001b[0;34m\u001b[0m\u001b[0m\n\u001b[1;32m    619\u001b[0m     \u001b[0;31m# Create the parser.\u001b[0m\u001b[0;34m\u001b[0m\u001b[0;34m\u001b[0m\u001b[0m\n\u001b[0;32m--> 620\u001b[0;31m     \u001b[0mparser\u001b[0m \u001b[0;34m=\u001b[0m \u001b[0mTextFileReader\u001b[0m\u001b[0;34m(\u001b[0m\u001b[0mfilepath_or_buffer\u001b[0m\u001b[0;34m,\u001b[0m \u001b[0;34m**\u001b[0m\u001b[0mkwds\u001b[0m\u001b[0;34m)\u001b[0m\u001b[0;34m\u001b[0m\u001b[0;34m\u001b[0m\u001b[0m\n\u001b[0m\u001b[1;32m    621\u001b[0m \u001b[0;34m\u001b[0m\u001b[0m\n\u001b[1;32m    622\u001b[0m     \u001b[0;32mif\u001b[0m \u001b[0mchunksize\u001b[0m \u001b[0;32mor\u001b[0m \u001b[0miterator\u001b[0m\u001b[0;34m:\u001b[0m\u001b[0;34m\u001b[0m\u001b[0;34m\u001b[0m\u001b[0m\n",
            "\u001b[0;32m/usr/local/lib/python3.11/dist-packages/pandas/io/parsers/readers.py\u001b[0m in \u001b[0;36m__init__\u001b[0;34m(self, f, engine, **kwds)\u001b[0m\n\u001b[1;32m   1618\u001b[0m \u001b[0;34m\u001b[0m\u001b[0m\n\u001b[1;32m   1619\u001b[0m         \u001b[0mself\u001b[0m\u001b[0;34m.\u001b[0m\u001b[0mhandles\u001b[0m\u001b[0;34m:\u001b[0m \u001b[0mIOHandles\u001b[0m \u001b[0;34m|\u001b[0m \u001b[0;32mNone\u001b[0m \u001b[0;34m=\u001b[0m \u001b[0;32mNone\u001b[0m\u001b[0;34m\u001b[0m\u001b[0;34m\u001b[0m\u001b[0m\n\u001b[0;32m-> 1620\u001b[0;31m         \u001b[0mself\u001b[0m\u001b[0;34m.\u001b[0m\u001b[0m_engine\u001b[0m \u001b[0;34m=\u001b[0m \u001b[0mself\u001b[0m\u001b[0;34m.\u001b[0m\u001b[0m_make_engine\u001b[0m\u001b[0;34m(\u001b[0m\u001b[0mf\u001b[0m\u001b[0;34m,\u001b[0m \u001b[0mself\u001b[0m\u001b[0;34m.\u001b[0m\u001b[0mengine\u001b[0m\u001b[0;34m)\u001b[0m\u001b[0;34m\u001b[0m\u001b[0;34m\u001b[0m\u001b[0m\n\u001b[0m\u001b[1;32m   1621\u001b[0m \u001b[0;34m\u001b[0m\u001b[0m\n\u001b[1;32m   1622\u001b[0m     \u001b[0;32mdef\u001b[0m \u001b[0mclose\u001b[0m\u001b[0;34m(\u001b[0m\u001b[0mself\u001b[0m\u001b[0;34m)\u001b[0m \u001b[0;34m->\u001b[0m \u001b[0;32mNone\u001b[0m\u001b[0;34m:\u001b[0m\u001b[0;34m\u001b[0m\u001b[0;34m\u001b[0m\u001b[0m\n",
            "\u001b[0;32m/usr/local/lib/python3.11/dist-packages/pandas/io/parsers/readers.py\u001b[0m in \u001b[0;36m_make_engine\u001b[0;34m(self, f, engine)\u001b[0m\n\u001b[1;32m   1878\u001b[0m                 \u001b[0;32mif\u001b[0m \u001b[0;34m\"b\"\u001b[0m \u001b[0;32mnot\u001b[0m \u001b[0;32min\u001b[0m \u001b[0mmode\u001b[0m\u001b[0;34m:\u001b[0m\u001b[0;34m\u001b[0m\u001b[0;34m\u001b[0m\u001b[0m\n\u001b[1;32m   1879\u001b[0m                     \u001b[0mmode\u001b[0m \u001b[0;34m+=\u001b[0m \u001b[0;34m\"b\"\u001b[0m\u001b[0;34m\u001b[0m\u001b[0;34m\u001b[0m\u001b[0m\n\u001b[0;32m-> 1880\u001b[0;31m             self.handles = get_handle(\n\u001b[0m\u001b[1;32m   1881\u001b[0m                 \u001b[0mf\u001b[0m\u001b[0;34m,\u001b[0m\u001b[0;34m\u001b[0m\u001b[0;34m\u001b[0m\u001b[0m\n\u001b[1;32m   1882\u001b[0m                 \u001b[0mmode\u001b[0m\u001b[0;34m,\u001b[0m\u001b[0;34m\u001b[0m\u001b[0;34m\u001b[0m\u001b[0m\n",
            "\u001b[0;32m/usr/local/lib/python3.11/dist-packages/pandas/io/common.py\u001b[0m in \u001b[0;36mget_handle\u001b[0;34m(path_or_buf, mode, encoding, compression, memory_map, is_text, errors, storage_options)\u001b[0m\n\u001b[1;32m    871\u001b[0m         \u001b[0;32mif\u001b[0m \u001b[0mioargs\u001b[0m\u001b[0;34m.\u001b[0m\u001b[0mencoding\u001b[0m \u001b[0;32mand\u001b[0m \u001b[0;34m\"b\"\u001b[0m \u001b[0;32mnot\u001b[0m \u001b[0;32min\u001b[0m \u001b[0mioargs\u001b[0m\u001b[0;34m.\u001b[0m\u001b[0mmode\u001b[0m\u001b[0;34m:\u001b[0m\u001b[0;34m\u001b[0m\u001b[0;34m\u001b[0m\u001b[0m\n\u001b[1;32m    872\u001b[0m             \u001b[0;31m# Encoding\u001b[0m\u001b[0;34m\u001b[0m\u001b[0;34m\u001b[0m\u001b[0m\n\u001b[0;32m--> 873\u001b[0;31m             handle = open(\n\u001b[0m\u001b[1;32m    874\u001b[0m                 \u001b[0mhandle\u001b[0m\u001b[0;34m,\u001b[0m\u001b[0;34m\u001b[0m\u001b[0;34m\u001b[0m\u001b[0m\n\u001b[1;32m    875\u001b[0m                 \u001b[0mioargs\u001b[0m\u001b[0;34m.\u001b[0m\u001b[0mmode\u001b[0m\u001b[0;34m,\u001b[0m\u001b[0;34m\u001b[0m\u001b[0;34m\u001b[0m\u001b[0m\n",
            "\u001b[0;31mFileNotFoundError\u001b[0m: [Errno 2] No such file or directory: '/root/titanic.csv'"
          ]
        }
      ],
      "source": [
        "# Leemos el archivo .csv\n",
        "# ATENCION: REEMPLAZAR POR EL PATH DONDE SE ENCUENTRE EL ARCHIVO\n",
        "titanic=pd.read_csv('/content/titanic.csv')\n",
        "\n",
        "# Observamos los 5 primeros elementos\n",
        "titanic.head()"
      ]
    },
    {
      "cell_type": "markdown",
      "id": "a7f33d80",
      "metadata": {
        "id": "a7f33d80"
      },
      "source": [
        "##### Observaciones\n",
        "Lo primero que observamos cuando vemos los primeros ejemplos del dataset es que tenemos features numéricos, de texto libre y categóricos.\n",
        "\n",
        "Además vemos que tenemos un feature llamado PassengerId que podría usarse de indíce en nuestro DataFrame.\n",
        "\n",
        "El Label en este caso sería 'Survived' que nos dice si ese pasajero sobrevivió (1) o no sobrevivió (0). El resto de las columnas son los features de los cuales debemos aprender.\n",
        "\n",
        "Veamos que significa cada feature:\n",
        "- PassengerId, es un valor unico por pasajero que define su ID\n",
        "- Pclass, es la clase en la que viajaba (1, para primera clase, 2, para segunda clase y 3 para tercera clase)\n",
        "- Name, es el nombre completo del pasajero. Inlcuye el título social (Mr., Miss., etc)\n",
        "- Sex, es el género (masculino, femenino)\n",
        "- Age, la edad\n",
        "- SibSp, describe la cantidad de hermanos/as y esposo/a que viajan también en el barco\n",
        "- Parch, describe la cantidad de padres e hijos que viajan también en el barco\n",
        "- Ticket, es el identificador del pasaje\n",
        "- Fare, es la tarifa que pagó por el pasaje\n",
        "- Cabin, es el identificador de la cabina en la que se alojaba\n",
        "- Embarked, es el puerto de embarque en donde subió al barco. Tiene tres valores posibles: S (Southampton), C (Cherbourg) y Q (Queenstown).\n",
        "\n",
        "Ahora que tenemos una idea general de como esta formado nuestro dataset, comencemos a analizarlo y procesarlo para que quede \"listo\" para entrenar un algoritmo de ML.\n",
        "\n",
        "\n",
        "Para iniciar con nuestro análisis, a continuación vamos a:\n",
        "1. definir PassengerId como indice de nuestro DataFrame\n",
        "2. observar la cantidad de ejemplos que tenemos\n",
        "3. analizar los tipos de datos que representan los features\n",
        "4. describir estadeisticamente el dataset usando el método .describe()\n",
        "5. consultar la cantidad de valores faltantes por cada feature\n",
        "6. observar el Label: cantidad de sobrevivientes y cantidad de fallecidos\n",
        "\n"
      ]
    },
    {
      "cell_type": "code",
      "execution_count": null,
      "id": "4bb83c46",
      "metadata": {
        "id": "4bb83c46",
        "outputId": "75b35be6-96ab-4127-9f8c-f4481cc77ad5"
      },
      "outputs": [
        {
          "data": {
            "text/html": [
              "<div>\n",
              "<style scoped>\n",
              "    .dataframe tbody tr th:only-of-type {\n",
              "        vertical-align: middle;\n",
              "    }\n",
              "\n",
              "    .dataframe tbody tr th {\n",
              "        vertical-align: top;\n",
              "    }\n",
              "\n",
              "    .dataframe thead th {\n",
              "        text-align: right;\n",
              "    }\n",
              "</style>\n",
              "<table border=\"1\" class=\"dataframe\">\n",
              "  <thead>\n",
              "    <tr style=\"text-align: right;\">\n",
              "      <th></th>\n",
              "      <th>Survived</th>\n",
              "      <th>Pclass</th>\n",
              "      <th>Name</th>\n",
              "      <th>Sex</th>\n",
              "      <th>Age</th>\n",
              "      <th>SibSp</th>\n",
              "      <th>Parch</th>\n",
              "      <th>Ticket</th>\n",
              "      <th>Fare</th>\n",
              "      <th>Cabin</th>\n",
              "      <th>Embarked</th>\n",
              "    </tr>\n",
              "    <tr>\n",
              "      <th>PassengerId</th>\n",
              "      <th></th>\n",
              "      <th></th>\n",
              "      <th></th>\n",
              "      <th></th>\n",
              "      <th></th>\n",
              "      <th></th>\n",
              "      <th></th>\n",
              "      <th></th>\n",
              "      <th></th>\n",
              "      <th></th>\n",
              "      <th></th>\n",
              "    </tr>\n",
              "  </thead>\n",
              "  <tbody>\n",
              "    <tr>\n",
              "      <th>887</th>\n",
              "      <td>0</td>\n",
              "      <td>2</td>\n",
              "      <td>Montvila, Rev. Juozas</td>\n",
              "      <td>male</td>\n",
              "      <td>27.0</td>\n",
              "      <td>0</td>\n",
              "      <td>0</td>\n",
              "      <td>211536</td>\n",
              "      <td>13.00</td>\n",
              "      <td>NaN</td>\n",
              "      <td>S</td>\n",
              "    </tr>\n",
              "    <tr>\n",
              "      <th>888</th>\n",
              "      <td>1</td>\n",
              "      <td>1</td>\n",
              "      <td>Graham, Miss. Margaret Edith</td>\n",
              "      <td>female</td>\n",
              "      <td>19.0</td>\n",
              "      <td>0</td>\n",
              "      <td>0</td>\n",
              "      <td>112053</td>\n",
              "      <td>30.00</td>\n",
              "      <td>B42</td>\n",
              "      <td>S</td>\n",
              "    </tr>\n",
              "    <tr>\n",
              "      <th>889</th>\n",
              "      <td>0</td>\n",
              "      <td>3</td>\n",
              "      <td>Johnston, Miss. Catherine Helen \"Carrie\"</td>\n",
              "      <td>female</td>\n",
              "      <td>NaN</td>\n",
              "      <td>1</td>\n",
              "      <td>2</td>\n",
              "      <td>W./C. 6607</td>\n",
              "      <td>23.45</td>\n",
              "      <td>NaN</td>\n",
              "      <td>S</td>\n",
              "    </tr>\n",
              "    <tr>\n",
              "      <th>890</th>\n",
              "      <td>1</td>\n",
              "      <td>1</td>\n",
              "      <td>Behr, Mr. Karl Howell</td>\n",
              "      <td>male</td>\n",
              "      <td>26.0</td>\n",
              "      <td>0</td>\n",
              "      <td>0</td>\n",
              "      <td>111369</td>\n",
              "      <td>30.00</td>\n",
              "      <td>C148</td>\n",
              "      <td>C</td>\n",
              "    </tr>\n",
              "    <tr>\n",
              "      <th>891</th>\n",
              "      <td>0</td>\n",
              "      <td>3</td>\n",
              "      <td>Dooley, Mr. Patrick</td>\n",
              "      <td>male</td>\n",
              "      <td>32.0</td>\n",
              "      <td>0</td>\n",
              "      <td>0</td>\n",
              "      <td>370376</td>\n",
              "      <td>7.75</td>\n",
              "      <td>NaN</td>\n",
              "      <td>Q</td>\n",
              "    </tr>\n",
              "  </tbody>\n",
              "</table>\n",
              "</div>"
            ],
            "text/plain": [
              "             Survived  Pclass                                      Name  \\\n",
              "PassengerId                                                               \n",
              "887                 0       2                     Montvila, Rev. Juozas   \n",
              "888                 1       1              Graham, Miss. Margaret Edith   \n",
              "889                 0       3  Johnston, Miss. Catherine Helen \"Carrie\"   \n",
              "890                 1       1                     Behr, Mr. Karl Howell   \n",
              "891                 0       3                       Dooley, Mr. Patrick   \n",
              "\n",
              "                Sex   Age  SibSp  Parch      Ticket   Fare Cabin Embarked  \n",
              "PassengerId                                                                \n",
              "887            male  27.0      0      0      211536  13.00   NaN        S  \n",
              "888          female  19.0      0      0      112053  30.00   B42        S  \n",
              "889          female   NaN      1      2  W./C. 6607  23.45   NaN        S  \n",
              "890            male  26.0      0      0      111369  30.00  C148        C  \n",
              "891            male  32.0      0      0      370376   7.75   NaN        Q  "
            ]
          },
          "execution_count": 449,
          "metadata": {},
          "output_type": "execute_result"
        }
      ],
      "source": [
        "# 1. Seteamos en indice para que sea el id del pasajero\n",
        "titanic = titanic.set_index('PassengerId')\n",
        "\n",
        "# Observamos los 5 ultimos elementos\n",
        "titanic.tail()"
      ]
    },
    {
      "cell_type": "markdown",
      "id": "3528c4b6",
      "metadata": {
        "id": "3528c4b6"
      },
      "source": [
        "###### Veamos cuántos ejemplos tenemos y cuántos features"
      ]
    },
    {
      "cell_type": "code",
      "execution_count": null,
      "id": "7b36fdc3",
      "metadata": {
        "id": "7b36fdc3",
        "outputId": "2c6fde1b-fb1f-49cc-e243-b6b97f9f0f6e"
      },
      "outputs": [
        {
          "data": {
            "text/plain": [
              "(891, 11)"
            ]
          },
          "execution_count": 450,
          "metadata": {},
          "output_type": "execute_result"
        }
      ],
      "source": [
        "# 2. Observamos el tamaño del dataset (Filas x Columnas)\n",
        "titanic.shape"
      ]
    },
    {
      "cell_type": "code",
      "execution_count": null,
      "id": "646070b6",
      "metadata": {
        "id": "646070b6",
        "outputId": "c2201425-c265-403d-cac5-407dd415a746"
      },
      "outputs": [
        {
          "data": {
            "text/plain": [
              "Survived      int64\n",
              "Pclass        int64\n",
              "Name         object\n",
              "Sex          object\n",
              "Age         float64\n",
              "SibSp         int64\n",
              "Parch         int64\n",
              "Ticket       object\n",
              "Fare        float64\n",
              "Cabin        object\n",
              "Embarked     object\n",
              "dtype: object"
            ]
          },
          "execution_count": 451,
          "metadata": {},
          "output_type": "execute_result"
        }
      ],
      "source": [
        "# 3. Analizamos los tipos de los features que componen el dataset\n",
        "titanic.dtypes"
      ]
    },
    {
      "cell_type": "markdown",
      "id": "244e7178",
      "metadata": {
        "id": "244e7178"
      },
      "source": [
        "##### Observaciones:\n",
        "- Name, Sex, Ticket y Cabin, Embarked son del tipo object, es decir, texto o valores categóricos\n",
        "- Age y Fare son del tipo float (numéricos reales)\n",
        "- El resto son valores numéricos enteros"
      ]
    },
    {
      "cell_type": "code",
      "execution_count": null,
      "id": "d1d5ea7e",
      "metadata": {
        "id": "d1d5ea7e",
        "outputId": "7071d4b3-e0b7-4927-f03b-4cdd60403c8e"
      },
      "outputs": [
        {
          "data": {
            "text/html": [
              "<div>\n",
              "<style scoped>\n",
              "    .dataframe tbody tr th:only-of-type {\n",
              "        vertical-align: middle;\n",
              "    }\n",
              "\n",
              "    .dataframe tbody tr th {\n",
              "        vertical-align: top;\n",
              "    }\n",
              "\n",
              "    .dataframe thead th {\n",
              "        text-align: right;\n",
              "    }\n",
              "</style>\n",
              "<table border=\"1\" class=\"dataframe\">\n",
              "  <thead>\n",
              "    <tr style=\"text-align: right;\">\n",
              "      <th></th>\n",
              "      <th>count</th>\n",
              "      <th>mean</th>\n",
              "      <th>std</th>\n",
              "      <th>min</th>\n",
              "      <th>25%</th>\n",
              "      <th>50%</th>\n",
              "      <th>75%</th>\n",
              "      <th>max</th>\n",
              "    </tr>\n",
              "  </thead>\n",
              "  <tbody>\n",
              "    <tr>\n",
              "      <th>Survived</th>\n",
              "      <td>891.0</td>\n",
              "      <td>0.383838</td>\n",
              "      <td>0.486592</td>\n",
              "      <td>0.00</td>\n",
              "      <td>0.0000</td>\n",
              "      <td>0.0000</td>\n",
              "      <td>1.0</td>\n",
              "      <td>1.0000</td>\n",
              "    </tr>\n",
              "    <tr>\n",
              "      <th>Pclass</th>\n",
              "      <td>891.0</td>\n",
              "      <td>2.308642</td>\n",
              "      <td>0.836071</td>\n",
              "      <td>1.00</td>\n",
              "      <td>2.0000</td>\n",
              "      <td>3.0000</td>\n",
              "      <td>3.0</td>\n",
              "      <td>3.0000</td>\n",
              "    </tr>\n",
              "    <tr>\n",
              "      <th>Age</th>\n",
              "      <td>714.0</td>\n",
              "      <td>29.699118</td>\n",
              "      <td>14.526497</td>\n",
              "      <td>0.42</td>\n",
              "      <td>20.1250</td>\n",
              "      <td>28.0000</td>\n",
              "      <td>38.0</td>\n",
              "      <td>80.0000</td>\n",
              "    </tr>\n",
              "    <tr>\n",
              "      <th>SibSp</th>\n",
              "      <td>891.0</td>\n",
              "      <td>0.523008</td>\n",
              "      <td>1.102743</td>\n",
              "      <td>0.00</td>\n",
              "      <td>0.0000</td>\n",
              "      <td>0.0000</td>\n",
              "      <td>1.0</td>\n",
              "      <td>8.0000</td>\n",
              "    </tr>\n",
              "    <tr>\n",
              "      <th>Parch</th>\n",
              "      <td>891.0</td>\n",
              "      <td>0.381594</td>\n",
              "      <td>0.806057</td>\n",
              "      <td>0.00</td>\n",
              "      <td>0.0000</td>\n",
              "      <td>0.0000</td>\n",
              "      <td>0.0</td>\n",
              "      <td>6.0000</td>\n",
              "    </tr>\n",
              "    <tr>\n",
              "      <th>Fare</th>\n",
              "      <td>891.0</td>\n",
              "      <td>32.204208</td>\n",
              "      <td>49.693429</td>\n",
              "      <td>0.00</td>\n",
              "      <td>7.9104</td>\n",
              "      <td>14.4542</td>\n",
              "      <td>31.0</td>\n",
              "      <td>512.3292</td>\n",
              "    </tr>\n",
              "  </tbody>\n",
              "</table>\n",
              "</div>"
            ],
            "text/plain": [
              "          count       mean        std   min      25%      50%   75%       max\n",
              "Survived  891.0   0.383838   0.486592  0.00   0.0000   0.0000   1.0    1.0000\n",
              "Pclass    891.0   2.308642   0.836071  1.00   2.0000   3.0000   3.0    3.0000\n",
              "Age       714.0  29.699118  14.526497  0.42  20.1250  28.0000  38.0   80.0000\n",
              "SibSp     891.0   0.523008   1.102743  0.00   0.0000   0.0000   1.0    8.0000\n",
              "Parch     891.0   0.381594   0.806057  0.00   0.0000   0.0000   0.0    6.0000\n",
              "Fare      891.0  32.204208  49.693429  0.00   7.9104  14.4542  31.0  512.3292"
            ]
          },
          "execution_count": 452,
          "metadata": {},
          "output_type": "execute_result"
        }
      ],
      "source": [
        "# 4. Analizamos estadísticamente los features numéricos. transpose() es para visualizar la matriz transpuesta (puede obviarse)\n",
        "titanic.describe().transpose()"
      ]
    },
    {
      "cell_type": "code",
      "execution_count": null,
      "id": "c7342682",
      "metadata": {
        "id": "c7342682",
        "outputId": "6959b2df-ec30-450b-d086-2b9fbfd10ab6"
      },
      "outputs": [
        {
          "data": {
            "text/plain": [
              "Survived      0\n",
              "Pclass        0\n",
              "Name          0\n",
              "Sex           0\n",
              "Age         177\n",
              "SibSp         0\n",
              "Parch         0\n",
              "Ticket        0\n",
              "Fare          0\n",
              "Cabin       687\n",
              "Embarked      2\n",
              "dtype: int64"
            ]
          },
          "execution_count": 453,
          "metadata": {},
          "output_type": "execute_result"
        }
      ],
      "source": [
        "# 5. Consultamos la cantidad de valores faltantes por cada feature\n",
        "titanic.isnull().sum()"
      ]
    },
    {
      "cell_type": "markdown",
      "id": "9388bddb",
      "metadata": {
        "id": "9388bddb"
      },
      "source": [
        "##### Observaciones\n",
        "- Cabin tiene 687 valores faltantes de los 891 ejemplos (~77%)\n",
        "- Age tiene 177 valores faltantes de los 891 ejemplos (~20%)"
      ]
    },
    {
      "cell_type": "code",
      "execution_count": null,
      "id": "50c27858",
      "metadata": {
        "id": "50c27858",
        "outputId": "879b1062-d841-404a-b464-88a085bec8cc"
      },
      "outputs": [
        {
          "data": {
            "text/plain": [
              "0    549\n",
              "1    342\n",
              "Name: Survived, dtype: int64"
            ]
          },
          "execution_count": 454,
          "metadata": {},
          "output_type": "execute_result"
        }
      ],
      "source": [
        "# 6. Observamos el Label: Cantidad de sobrevivientes y cantidad de fallecidos\n",
        "titanic.Survived.value_counts()"
      ]
    },
    {
      "cell_type": "markdown",
      "id": "4f2487c9",
      "metadata": {
        "id": "4f2487c9"
      },
      "source": [
        " ##### Observaciones\n",
        " Del total de pasajeros del dataset:\n",
        " - 549 no sobrevivieron\n",
        " - 342 sobrevivieron"
      ]
    },
    {
      "cell_type": "markdown",
      "id": "9b4e42dc",
      "metadata": {
        "id": "9b4e42dc"
      },
      "source": [
        "Ahora que tenemos más claridad sobre nuestro dataset usaremos algunos métodos de pandas que nos ayudarán a analizar los features combinandolos.\n",
        "\n",
        "Con el método .groupby() se agrupan segun los features seleccionados y permite realizar diferentes cálculos de a grupos (contar los elementos agrupados, sumarlos, promediarlos, etc).\n",
        "\n",
        "En este caso el objetivo es:\n",
        "1. Obtener la cantidad de pasajeros por cada clase\n",
        "2. Obtener la cantidad de sobrevivientes por cada clase\n",
        "\n",
        "Nos enfocamos en principio en las clases de las cabinas porque, según la historia que se conoce del hundimiento del Titanic, los pasajeros de clases más bajas tuvieron menos chances de sobrevivir. El objetivo es verificar esto con nuestro dataset. Si ese es el caso sabremos que Pclass es un feature importante para definir el Label."
      ]
    },
    {
      "cell_type": "code",
      "execution_count": null,
      "id": "8202a185",
      "metadata": {
        "id": "8202a185",
        "outputId": "6824df8c-8c30-47d8-bba4-f74517483733"
      },
      "outputs": [
        {
          "data": {
            "text/html": [
              "<div>\n",
              "<style scoped>\n",
              "    .dataframe tbody tr th:only-of-type {\n",
              "        vertical-align: middle;\n",
              "    }\n",
              "\n",
              "    .dataframe tbody tr th {\n",
              "        vertical-align: top;\n",
              "    }\n",
              "\n",
              "    .dataframe thead th {\n",
              "        text-align: right;\n",
              "    }\n",
              "</style>\n",
              "<table border=\"1\" class=\"dataframe\">\n",
              "  <thead>\n",
              "    <tr style=\"text-align: right;\">\n",
              "      <th></th>\n",
              "      <th>Survived</th>\n",
              "    </tr>\n",
              "    <tr>\n",
              "      <th>Pclass</th>\n",
              "      <th></th>\n",
              "    </tr>\n",
              "  </thead>\n",
              "  <tbody>\n",
              "    <tr>\n",
              "      <th>1</th>\n",
              "      <td>216</td>\n",
              "    </tr>\n",
              "    <tr>\n",
              "      <th>2</th>\n",
              "      <td>184</td>\n",
              "    </tr>\n",
              "    <tr>\n",
              "      <th>3</th>\n",
              "      <td>491</td>\n",
              "    </tr>\n",
              "  </tbody>\n",
              "</table>\n",
              "</div>"
            ],
            "text/plain": [
              "        Survived\n",
              "Pclass          \n",
              "1            216\n",
              "2            184\n",
              "3            491"
            ]
          },
          "execution_count": 455,
          "metadata": {},
          "output_type": "execute_result"
        }
      ],
      "source": [
        "# Observamos la cantidad de pasajeros por clase. Para ello agrupamos Pclass, junto con el Label\n",
        "# En este caso se usa count(), que cuenta la cantidad de ejemplos por cada grupo\n",
        "titanic[['Pclass', 'Survived']].groupby('Pclass').count()"
      ]
    },
    {
      "cell_type": "markdown",
      "id": "7f3f85c4",
      "metadata": {
        "id": "7f3f85c4"
      },
      "source": [
        "##### Observaciones\n",
        "Total de pasajeros por clase:\n",
        "- 216 pasajeros de 1ra clase\n",
        "- 184 pasajeros de 2da clase\n",
        "- 491 pasajeros de 3ra clase"
      ]
    },
    {
      "cell_type": "code",
      "execution_count": null,
      "id": "329cbbd0",
      "metadata": {
        "id": "329cbbd0",
        "outputId": "6fe63a5e-1b82-43f7-f5e3-9061a4dc037d"
      },
      "outputs": [
        {
          "data": {
            "text/html": [
              "<div>\n",
              "<style scoped>\n",
              "    .dataframe tbody tr th:only-of-type {\n",
              "        vertical-align: middle;\n",
              "    }\n",
              "\n",
              "    .dataframe tbody tr th {\n",
              "        vertical-align: top;\n",
              "    }\n",
              "\n",
              "    .dataframe thead th {\n",
              "        text-align: right;\n",
              "    }\n",
              "</style>\n",
              "<table border=\"1\" class=\"dataframe\">\n",
              "  <thead>\n",
              "    <tr style=\"text-align: right;\">\n",
              "      <th></th>\n",
              "      <th>Survived</th>\n",
              "    </tr>\n",
              "    <tr>\n",
              "      <th>Pclass</th>\n",
              "      <th></th>\n",
              "    </tr>\n",
              "  </thead>\n",
              "  <tbody>\n",
              "    <tr>\n",
              "      <th>1</th>\n",
              "      <td>136</td>\n",
              "    </tr>\n",
              "    <tr>\n",
              "      <th>2</th>\n",
              "      <td>87</td>\n",
              "    </tr>\n",
              "    <tr>\n",
              "      <th>3</th>\n",
              "      <td>119</td>\n",
              "    </tr>\n",
              "  </tbody>\n",
              "</table>\n",
              "</div>"
            ],
            "text/plain": [
              "        Survived\n",
              "Pclass          \n",
              "1            136\n",
              "2             87\n",
              "3            119"
            ]
          },
          "execution_count": 456,
          "metadata": {},
          "output_type": "execute_result"
        }
      ],
      "source": [
        "# Cantidad de sobrevivientes por clase\n",
        "# En este caso se usa sum(), porque sumamos porque los valores del feature Survived\n",
        "# Survived tiene valores de 0 (no sobrevivio), y 1 (sobrevivio).\n",
        "# Por lo tanto sum() nos dará la cantidad que sobrevivieron, sumando solo los unos.\n",
        "titanic[['Pclass', 'Survived']].groupby('Pclass').sum()"
      ]
    },
    {
      "cell_type": "markdown",
      "id": "efa128ec",
      "metadata": {
        "id": "efa128ec"
      },
      "source": [
        "##### Observaciones\n",
        "- 136 pasajeros sobrevivieron de 1ra clase\n",
        "- 87 pasajeros sobrevivieron de 2da clase\n",
        "- 119 pasajeros sobrevivieron de 3ra clase"
      ]
    },
    {
      "cell_type": "markdown",
      "id": "25a21aa0",
      "metadata": {
        "id": "25a21aa0"
      },
      "source": [
        "Ahora que vemos en números las cantidades de pasajeros de cada clase, y los que sobrevivieron vamos a visualizar gráficamente estás estadísticas usando la librería matplotlib"
      ]
    },
    {
      "cell_type": "code",
      "execution_count": null,
      "id": "a6849169",
      "metadata": {
        "id": "a6849169",
        "outputId": "ac622105-9dc8-48a3-a11a-c92157d2986f"
      },
      "outputs": [
        {
          "data": {
            "image/png": "[encoded data removed]",
            "text/plain": [
              "<Figure size 216x216 with 1 Axes>"
            ]
          },
          "metadata": {},
          "output_type": "display_data"
        }
      ],
      "source": [
        "# Vemos gráficamente cantidad de pasajeros que sobrevivieron y que no lo hicieron\n",
        "\n",
        "# Fijamos el tamaño del grafico que va a contener los subgraficos\n",
        "plt.figure(figsize=(3,3))\n",
        "\n",
        "# El grafico es del tipo Bar (gráfico de Barras)\n",
        "figure=titanic.Survived.value_counts().plot(kind='bar')\n",
        "\n",
        "# Fijamos en 0 el valor de rotación de los ticks del eje x para su mejor visualización (por defecto es 90 grados)\n",
        "plt.xticks(rotation = 0)\n",
        "\n",
        "# Definimos los labels para cada eje\n",
        "figure.set_xlabel('Sobrevivió',fontsize=9)\n",
        "figure.set_ylabel('Cantidad de Pasajeros', fontsize=9)\n",
        "plt.show()"
      ]
    },
    {
      "cell_type": "markdown",
      "id": "4e81a28f",
      "metadata": {
        "id": "4e81a28f"
      },
      "source": [
        "Veamos ahora gráficamente la cantidad de pasajeros en relación a los features:\n",
        "- Clase de la cabina\n",
        "- Género\n",
        "- Puerto de embarque\n",
        "- Cant. de Hermanos y/o Esposos\n",
        "- Cant. de Padres y/o Hijos"
      ]
    },
    {
      "cell_type": "code",
      "execution_count": null,
      "id": "e76ce759",
      "metadata": {
        "id": "e76ce759",
        "outputId": "b2f6fce3-fd9f-424a-d7dd-34754b2e90f4"
      },
      "outputs": [
        {
          "data": {
            "image/png": "[encoded data removed]",
            "text/plain": [
              "<Figure size 720x504 with 5 Axes>"
            ]
          },
          "metadata": {},
          "output_type": "display_data"
        }
      ],
      "source": [
        "# Vemos graficamente la cantidad de pasajeros en relación a otros features\n",
        "\n",
        "# Fijamos el tamaño del grafico que va a contener los subgraficos\n",
        "plt.figure(figsize=(10,7))\n",
        "\n",
        "\n",
        "# Grafico 1: Cantidad de pasajeros vs. Clase\n",
        "# Con plt.subplot() Ubicamos el primer gráfico (el primer y segundo argumento de subplot define el tamaño\n",
        "# de la grilla que contiene los subgraficos, en este caso 2x3). El ultimo argumento define el indice donde\n",
        "# ira ubicado el grafico. En este caso es el primero (arriba a la izquierda)\n",
        "plt.subplot(2,3,1)\n",
        "figure = titanic.Pclass.value_counts().sort_index().plot(kind='bar', title='')\n",
        "plt.xticks(rotation = 0)\n",
        "figure.set_xlabel('Clase',fontsize=9)\n",
        "figure.set_ylabel('Cantidad de Pasajeros', fontsize=9)\n",
        "\n",
        "# Grafico 2: Cantidad de pasajeros vs. Género\n",
        "plt.subplot(2,3,2)\n",
        "figure = titanic.Sex.value_counts().sort_index().plot(kind='bar')\n",
        "plt.xticks(rotation = 0)\n",
        "figure.set_xlabel('Género',fontsize=9)\n",
        "figure.set_ylabel('Cantidad de Pasajeros',fontsize=9)\n",
        "\n",
        "\n",
        "# Grafico 3: Cantidad de pasajeros vs. Puerto de embarque\n",
        "plt.subplot(2,3,3)\n",
        "figure = titanic.Embarked.value_counts().sort_index().plot(kind='bar')\n",
        "plt.xticks(rotation = 0)\n",
        "figure.set_xlabel('Puerto de embarque',fontsize=9)\n",
        "figure.set_ylabel('Cantidad de Pasajeros',fontsize=9)\n",
        "\n",
        "# Grafico 3: Cantidad de pasajeros vs. Cant. de Hermanos y/o Esposos\n",
        "plt.subplot(2,3,4)\n",
        "figure = titanic.SibSp.value_counts().sort_index().plot(kind='bar')\n",
        "plt.xticks(rotation = 0)\n",
        "figure.set_xlabel('Cant. de Hermanos y/o Esposos',fontsize=9)\n",
        "figure.set_ylabel('Cantidad de Pasajeros',fontsize=9)\n",
        "\n",
        "\n",
        "# Grafico 3: Cantidad de pasajeros vs. Cant. de Padres y/o Hijos\n",
        "plt.subplot(2,3,5)\n",
        "figure = titanic.Parch.value_counts().sort_index().plot(kind='bar')\n",
        "plt.xticks(rotation = 0)\n",
        "figure.set_xlabel('Cant. de Padres y/o Hijos',fontsize=9)\n",
        "figure.set_ylabel('Cantidad de Pasajeros',fontsize=9)\n",
        "\n",
        "# Dejamos espacio entre los graficos para mayor legibilidad\n",
        "plt.tight_layout(pad=2.0)\n",
        "plt.show()"
      ]
    },
    {
      "cell_type": "markdown",
      "id": "7a7e6bca",
      "metadata": {
        "id": "7a7e6bca"
      },
      "source": [
        "Puntualmente lo que nos interesa es observar la probabilidad de sobrevivir segun cada feature. Analicemos esto según los siguientes features:\n",
        "- Clase de la cabina\n",
        "- Género\n",
        "- Puerto de embarque\n",
        "- Cant. de Hermanos y/o Esposos\n",
        "- Cant. de Padres y/o Hijos"
      ]
    },
    {
      "cell_type": "code",
      "execution_count": null,
      "id": "647fcc19",
      "metadata": {
        "id": "647fcc19",
        "outputId": "a85d9b6a-6f21-4f3a-df92-19fc9f3aabee"
      },
      "outputs": [
        {
          "data": {
            "image/png": "[encoded data removed]",
            "text/plain": [
              "<Figure size 720x504 with 5 Axes>"
            ]
          },
          "metadata": {},
          "output_type": "display_data"
        }
      ],
      "source": [
        "# Vemos gráficamente la probabilidad de sobrevivir en relación a otros features\n",
        "plt.figure(figsize=(10,7))\n",
        "\n",
        "# Grafico 1: Probabilidad de Sobrevivir vs. Clase\n",
        "plt.subplot(2,3,1)\n",
        "figure = titanic[['Pclass', 'Survived']].groupby('Pclass').mean().Survived.plot(kind='bar')\n",
        "plt.xticks(rotation = 0)\n",
        "figure.set_xlabel('Clase',fontsize=9)\n",
        "figure.set_ylabel('Probabilidad de Sobrevivir',fontsize=9)\n",
        "\n",
        "# Grafico 2: Probabilidad de Sobrevivir vs. Género\n",
        "plt.subplot(2,3,2)\n",
        "figure = titanic[['Sex', 'Survived']].groupby('Sex').mean().Survived.plot(kind='bar')\n",
        "plt.xticks(rotation = 0)\n",
        "figure.set_xlabel('Género',fontsize=9)\n",
        "figure.set_ylabel('Probabilidad de Sobrevivir',fontsize=9)\n",
        "\n",
        "# Grafico 3: Probabilidad de Sobrevivir vs. Puerto de embarque\n",
        "plt.subplot(2,3,3)\n",
        "figure = titanic[['Embarked', 'Survived']].groupby('Embarked').mean().Survived.plot(kind='bar')\n",
        "plt.xticks(rotation = 0)\n",
        "figure.set_xlabel('Puerto de embarque',fontsize=9)\n",
        "figure.set_ylabel('Probabilidad de Sobrevivir',fontsize=9)\n",
        "\n",
        "# Grafico 4: Probabilidad de Sobrevivir vs. Cant. de Hermanos y/o Esposos\n",
        "plt.subplot(2,3,4)\n",
        "figure = titanic[['SibSp', 'Survived']].groupby('SibSp').mean().Survived.plot(kind='bar')\n",
        "plt.xticks(rotation = 0)\n",
        "figure.set_xlabel('Cant. de Hermanos y/o Esposos',fontsize=9)\n",
        "figure.set_ylabel('Probabilidad de Sobrevivir',fontsize=9)\n",
        "\n",
        "# Grafico 5: Probabilidad de Sobrevivir vs. Cant. de Padres y/o Hijos\n",
        "plt.subplot(2,3,5)\n",
        "figure = titanic[['Parch', 'Survived']].groupby('Parch').mean().Survived.plot(kind='bar')\n",
        "plt.xticks(rotation = 0)\n",
        "figure.set_xlabel('Cant. de Padres y/o Hijos',fontsize=9)\n",
        "figure.set_ylabel('Probabilidad de Sobrevivir',fontsize=9)\n",
        "\n",
        "plt.tight_layout(pad=2.0)\n",
        "plt.show()"
      ]
    },
    {
      "cell_type": "markdown",
      "id": "45ce250e",
      "metadata": {
        "id": "45ce250e"
      },
      "source": [
        "### Feature Selection\n",
        "Luego de haber analizado gráficamente algunas combinaciones de features vamos a hacer selección de features.\n",
        "Para ello, eliminamos  aquellos que tienen muchos valores faltantes o aquellos que no consideramos de utilidad para el problema:\n",
        "- Cabin se elimina porque tiene demasiados valores faltantes\n",
        "- Ticket (Id de ticket) se elimina por no considerarse relevante"
      ]
    },
    {
      "cell_type": "code",
      "execution_count": null,
      "id": "a8a452d8",
      "metadata": {
        "id": "a8a452d8",
        "outputId": "405c97ca-a65c-4231-cb71-213baff10a93"
      },
      "outputs": [
        {
          "data": {
            "text/html": [
              "<div>\n",
              "<style scoped>\n",
              "    .dataframe tbody tr th:only-of-type {\n",
              "        vertical-align: middle;\n",
              "    }\n",
              "\n",
              "    .dataframe tbody tr th {\n",
              "        vertical-align: top;\n",
              "    }\n",
              "\n",
              "    .dataframe thead th {\n",
              "        text-align: right;\n",
              "    }\n",
              "</style>\n",
              "<table border=\"1\" class=\"dataframe\">\n",
              "  <thead>\n",
              "    <tr style=\"text-align: right;\">\n",
              "      <th></th>\n",
              "      <th>Survived</th>\n",
              "      <th>Pclass</th>\n",
              "      <th>Name</th>\n",
              "      <th>Sex</th>\n",
              "      <th>Age</th>\n",
              "      <th>SibSp</th>\n",
              "      <th>Parch</th>\n",
              "      <th>Fare</th>\n",
              "      <th>Embarked</th>\n",
              "    </tr>\n",
              "    <tr>\n",
              "      <th>PassengerId</th>\n",
              "      <th></th>\n",
              "      <th></th>\n",
              "      <th></th>\n",
              "      <th></th>\n",
              "      <th></th>\n",
              "      <th></th>\n",
              "      <th></th>\n",
              "      <th></th>\n",
              "      <th></th>\n",
              "    </tr>\n",
              "  </thead>\n",
              "  <tbody>\n",
              "    <tr>\n",
              "      <th>1</th>\n",
              "      <td>0</td>\n",
              "      <td>3</td>\n",
              "      <td>Braund, Mr. Owen Harris</td>\n",
              "      <td>male</td>\n",
              "      <td>22.0</td>\n",
              "      <td>1</td>\n",
              "      <td>0</td>\n",
              "      <td>7.2500</td>\n",
              "      <td>S</td>\n",
              "    </tr>\n",
              "    <tr>\n",
              "      <th>2</th>\n",
              "      <td>1</td>\n",
              "      <td>1</td>\n",
              "      <td>Cumings, Mrs. John Bradley (Florence Briggs Th...</td>\n",
              "      <td>female</td>\n",
              "      <td>38.0</td>\n",
              "      <td>1</td>\n",
              "      <td>0</td>\n",
              "      <td>71.2833</td>\n",
              "      <td>C</td>\n",
              "    </tr>\n",
              "    <tr>\n",
              "      <th>3</th>\n",
              "      <td>1</td>\n",
              "      <td>3</td>\n",
              "      <td>Heikkinen, Miss. Laina</td>\n",
              "      <td>female</td>\n",
              "      <td>26.0</td>\n",
              "      <td>0</td>\n",
              "      <td>0</td>\n",
              "      <td>7.9250</td>\n",
              "      <td>S</td>\n",
              "    </tr>\n",
              "    <tr>\n",
              "      <th>4</th>\n",
              "      <td>1</td>\n",
              "      <td>1</td>\n",
              "      <td>Futrelle, Mrs. Jacques Heath (Lily May Peel)</td>\n",
              "      <td>female</td>\n",
              "      <td>35.0</td>\n",
              "      <td>1</td>\n",
              "      <td>0</td>\n",
              "      <td>53.1000</td>\n",
              "      <td>S</td>\n",
              "    </tr>\n",
              "    <tr>\n",
              "      <th>5</th>\n",
              "      <td>0</td>\n",
              "      <td>3</td>\n",
              "      <td>Allen, Mr. William Henry</td>\n",
              "      <td>male</td>\n",
              "      <td>35.0</td>\n",
              "      <td>0</td>\n",
              "      <td>0</td>\n",
              "      <td>8.0500</td>\n",
              "      <td>S</td>\n",
              "    </tr>\n",
              "  </tbody>\n",
              "</table>\n",
              "</div>"
            ],
            "text/plain": [
              "             Survived  Pclass  \\\n",
              "PassengerId                     \n",
              "1                   0       3   \n",
              "2                   1       1   \n",
              "3                   1       3   \n",
              "4                   1       1   \n",
              "5                   0       3   \n",
              "\n",
              "                                                          Name     Sex   Age  \\\n",
              "PassengerId                                                                    \n",
              "1                                      Braund, Mr. Owen Harris    male  22.0   \n",
              "2            Cumings, Mrs. John Bradley (Florence Briggs Th...  female  38.0   \n",
              "3                                       Heikkinen, Miss. Laina  female  26.0   \n",
              "4                 Futrelle, Mrs. Jacques Heath (Lily May Peel)  female  35.0   \n",
              "5                                     Allen, Mr. William Henry    male  35.0   \n",
              "\n",
              "             SibSp  Parch     Fare Embarked  \n",
              "PassengerId                                  \n",
              "1                1      0   7.2500        S  \n",
              "2                1      0  71.2833        C  \n",
              "3                0      0   7.9250        S  \n",
              "4                1      0  53.1000        S  \n",
              "5                0      0   8.0500        S  "
            ]
          },
          "execution_count": 460,
          "metadata": {},
          "output_type": "execute_result"
        }
      ],
      "source": [
        "# Con el método drop podemos eliminar filas o columnas. Para borrado de columnas se pasa como parámetro: axis=1\n",
        "# TENER EN CUENTA: Una vez que se ejecutó esta celda, si se vuelve a ejecutar arrojará error, porque las\n",
        "# columnas ya fueron eliminadas del DataFrame!\n",
        "titanic = titanic.drop(['Ticket', 'Cabin'], axis=1)\n",
        "titanic.head()"
      ]
    },
    {
      "cell_type": "markdown",
      "id": "773302aa",
      "metadata": {
        "id": "773302aa"
      },
      "source": [
        "### Extracción de Features\n",
        "Una forma de hacer extracción de features es manualmente crear nuevas features con algunas existentes en el dataset en este caso vamos a crear dos features nuevas:\n",
        "- FamilySize, que es una combinación de 'SibSp' (cantidad de hermanos y/o esposa/o) y 'Parch' (cantidad de padres y/o hijos)\n",
        "- Title, para la cual extraeremos del feature Name el título social del pasajero (el nombre lo descartamos porque consideramos que no aporta información relevante)"
      ]
    },
    {
      "cell_type": "code",
      "execution_count": null,
      "id": "f9caac7e",
      "metadata": {
        "id": "f9caac7e",
        "outputId": "9121619f-c925-4a66-c961-70dba52cfabd"
      },
      "outputs": [
        {
          "data": {
            "text/html": [
              "<div>\n",
              "<style scoped>\n",
              "    .dataframe tbody tr th:only-of-type {\n",
              "        vertical-align: middle;\n",
              "    }\n",
              "\n",
              "    .dataframe tbody tr th {\n",
              "        vertical-align: top;\n",
              "    }\n",
              "\n",
              "    .dataframe thead th {\n",
              "        text-align: right;\n",
              "    }\n",
              "</style>\n",
              "<table border=\"1\" class=\"dataframe\">\n",
              "  <thead>\n",
              "    <tr style=\"text-align: right;\">\n",
              "      <th></th>\n",
              "      <th>Survived</th>\n",
              "      <th>Pclass</th>\n",
              "      <th>Name</th>\n",
              "      <th>Sex</th>\n",
              "      <th>Age</th>\n",
              "      <th>SibSp</th>\n",
              "      <th>Parch</th>\n",
              "      <th>Fare</th>\n",
              "      <th>Embarked</th>\n",
              "      <th>FamilySize</th>\n",
              "    </tr>\n",
              "    <tr>\n",
              "      <th>PassengerId</th>\n",
              "      <th></th>\n",
              "      <th></th>\n",
              "      <th></th>\n",
              "      <th></th>\n",
              "      <th></th>\n",
              "      <th></th>\n",
              "      <th></th>\n",
              "      <th></th>\n",
              "      <th></th>\n",
              "      <th></th>\n",
              "    </tr>\n",
              "  </thead>\n",
              "  <tbody>\n",
              "    <tr>\n",
              "      <th>1</th>\n",
              "      <td>0</td>\n",
              "      <td>3</td>\n",
              "      <td>Braund, Mr. Owen Harris</td>\n",
              "      <td>male</td>\n",
              "      <td>22.0</td>\n",
              "      <td>1</td>\n",
              "      <td>0</td>\n",
              "      <td>7.2500</td>\n",
              "      <td>S</td>\n",
              "      <td>2</td>\n",
              "    </tr>\n",
              "    <tr>\n",
              "      <th>2</th>\n",
              "      <td>1</td>\n",
              "      <td>1</td>\n",
              "      <td>Cumings, Mrs. John Bradley (Florence Briggs Th...</td>\n",
              "      <td>female</td>\n",
              "      <td>38.0</td>\n",
              "      <td>1</td>\n",
              "      <td>0</td>\n",
              "      <td>71.2833</td>\n",
              "      <td>C</td>\n",
              "      <td>2</td>\n",
              "    </tr>\n",
              "    <tr>\n",
              "      <th>3</th>\n",
              "      <td>1</td>\n",
              "      <td>3</td>\n",
              "      <td>Heikkinen, Miss. Laina</td>\n",
              "      <td>female</td>\n",
              "      <td>26.0</td>\n",
              "      <td>0</td>\n",
              "      <td>0</td>\n",
              "      <td>7.9250</td>\n",
              "      <td>S</td>\n",
              "      <td>1</td>\n",
              "    </tr>\n",
              "    <tr>\n",
              "      <th>4</th>\n",
              "      <td>1</td>\n",
              "      <td>1</td>\n",
              "      <td>Futrelle, Mrs. Jacques Heath (Lily May Peel)</td>\n",
              "      <td>female</td>\n",
              "      <td>35.0</td>\n",
              "      <td>1</td>\n",
              "      <td>0</td>\n",
              "      <td>53.1000</td>\n",
              "      <td>S</td>\n",
              "      <td>2</td>\n",
              "    </tr>\n",
              "    <tr>\n",
              "      <th>5</th>\n",
              "      <td>0</td>\n",
              "      <td>3</td>\n",
              "      <td>Allen, Mr. William Henry</td>\n",
              "      <td>male</td>\n",
              "      <td>35.0</td>\n",
              "      <td>0</td>\n",
              "      <td>0</td>\n",
              "      <td>8.0500</td>\n",
              "      <td>S</td>\n",
              "      <td>1</td>\n",
              "    </tr>\n",
              "  </tbody>\n",
              "</table>\n",
              "</div>"
            ],
            "text/plain": [
              "             Survived  Pclass  \\\n",
              "PassengerId                     \n",
              "1                   0       3   \n",
              "2                   1       1   \n",
              "3                   1       3   \n",
              "4                   1       1   \n",
              "5                   0       3   \n",
              "\n",
              "                                                          Name     Sex   Age  \\\n",
              "PassengerId                                                                    \n",
              "1                                      Braund, Mr. Owen Harris    male  22.0   \n",
              "2            Cumings, Mrs. John Bradley (Florence Briggs Th...  female  38.0   \n",
              "3                                       Heikkinen, Miss. Laina  female  26.0   \n",
              "4                 Futrelle, Mrs. Jacques Heath (Lily May Peel)  female  35.0   \n",
              "5                                     Allen, Mr. William Henry    male  35.0   \n",
              "\n",
              "             SibSp  Parch     Fare Embarked  FamilySize  \n",
              "PassengerId                                              \n",
              "1                1      0   7.2500        S           2  \n",
              "2                1      0  71.2833        C           2  \n",
              "3                0      0   7.9250        S           1  \n",
              "4                1      0  53.1000        S           2  \n",
              "5                0      0   8.0500        S           1  "
            ]
          },
          "execution_count": 461,
          "metadata": {},
          "output_type": "execute_result"
        }
      ],
      "source": [
        "# FamilySize se compone de la cantidad de parientes en el barco + 1 (el pasajero del ejemplo)\n",
        "titanic['FamilySize'] = titanic['SibSp'] + titanic['Parch'] + 1\n",
        "titanic.head()"
      ]
    },
    {
      "cell_type": "code",
      "execution_count": null,
      "id": "cc411f4d",
      "metadata": {
        "id": "cc411f4d",
        "outputId": "cd13f469-69ba-433c-a07f-17b78b3efc47"
      },
      "outputs": [
        {
          "data": {
            "text/html": [
              "<div>\n",
              "<style scoped>\n",
              "    .dataframe tbody tr th:only-of-type {\n",
              "        vertical-align: middle;\n",
              "    }\n",
              "\n",
              "    .dataframe tbody tr th {\n",
              "        vertical-align: top;\n",
              "    }\n",
              "\n",
              "    .dataframe thead th {\n",
              "        text-align: right;\n",
              "    }\n",
              "</style>\n",
              "<table border=\"1\" class=\"dataframe\">\n",
              "  <thead>\n",
              "    <tr style=\"text-align: right;\">\n",
              "      <th></th>\n",
              "      <th>Survived</th>\n",
              "      <th>Pclass</th>\n",
              "      <th>Sex</th>\n",
              "      <th>Age</th>\n",
              "      <th>SibSp</th>\n",
              "      <th>Parch</th>\n",
              "      <th>Fare</th>\n",
              "      <th>Embarked</th>\n",
              "      <th>FamilySize</th>\n",
              "      <th>Title</th>\n",
              "    </tr>\n",
              "    <tr>\n",
              "      <th>PassengerId</th>\n",
              "      <th></th>\n",
              "      <th></th>\n",
              "      <th></th>\n",
              "      <th></th>\n",
              "      <th></th>\n",
              "      <th></th>\n",
              "      <th></th>\n",
              "      <th></th>\n",
              "      <th></th>\n",
              "      <th></th>\n",
              "    </tr>\n",
              "  </thead>\n",
              "  <tbody>\n",
              "    <tr>\n",
              "      <th>1</th>\n",
              "      <td>0</td>\n",
              "      <td>3</td>\n",
              "      <td>male</td>\n",
              "      <td>22.0</td>\n",
              "      <td>1</td>\n",
              "      <td>0</td>\n",
              "      <td>7.2500</td>\n",
              "      <td>S</td>\n",
              "      <td>2</td>\n",
              "      <td>Mr</td>\n",
              "    </tr>\n",
              "    <tr>\n",
              "      <th>2</th>\n",
              "      <td>1</td>\n",
              "      <td>1</td>\n",
              "      <td>female</td>\n",
              "      <td>38.0</td>\n",
              "      <td>1</td>\n",
              "      <td>0</td>\n",
              "      <td>71.2833</td>\n",
              "      <td>C</td>\n",
              "      <td>2</td>\n",
              "      <td>Mrs</td>\n",
              "    </tr>\n",
              "    <tr>\n",
              "      <th>3</th>\n",
              "      <td>1</td>\n",
              "      <td>3</td>\n",
              "      <td>female</td>\n",
              "      <td>26.0</td>\n",
              "      <td>0</td>\n",
              "      <td>0</td>\n",
              "      <td>7.9250</td>\n",
              "      <td>S</td>\n",
              "      <td>1</td>\n",
              "      <td>Miss</td>\n",
              "    </tr>\n",
              "    <tr>\n",
              "      <th>4</th>\n",
              "      <td>1</td>\n",
              "      <td>1</td>\n",
              "      <td>female</td>\n",
              "      <td>35.0</td>\n",
              "      <td>1</td>\n",
              "      <td>0</td>\n",
              "      <td>53.1000</td>\n",
              "      <td>S</td>\n",
              "      <td>2</td>\n",
              "      <td>Mrs</td>\n",
              "    </tr>\n",
              "    <tr>\n",
              "      <th>5</th>\n",
              "      <td>0</td>\n",
              "      <td>3</td>\n",
              "      <td>male</td>\n",
              "      <td>35.0</td>\n",
              "      <td>0</td>\n",
              "      <td>0</td>\n",
              "      <td>8.0500</td>\n",
              "      <td>S</td>\n",
              "      <td>1</td>\n",
              "      <td>Mr</td>\n",
              "    </tr>\n",
              "  </tbody>\n",
              "</table>\n",
              "</div>"
            ],
            "text/plain": [
              "             Survived  Pclass     Sex   Age  SibSp  Parch     Fare Embarked  \\\n",
              "PassengerId                                                                   \n",
              "1                   0       3    male  22.0      1      0   7.2500        S   \n",
              "2                   1       1  female  38.0      1      0  71.2833        C   \n",
              "3                   1       3  female  26.0      0      0   7.9250        S   \n",
              "4                   1       1  female  35.0      1      0  53.1000        S   \n",
              "5                   0       3    male  35.0      0      0   8.0500        S   \n",
              "\n",
              "             FamilySize Title  \n",
              "PassengerId                    \n",
              "1                     2    Mr  \n",
              "2                     2   Mrs  \n",
              "3                     1  Miss  \n",
              "4                     2   Mrs  \n",
              "5                     1    Mr  "
            ]
          },
          "execution_count": 462,
          "metadata": {},
          "output_type": "execute_result"
        }
      ],
      "source": [
        "# para crear Title se extrae el título social del nombre del pasajero\n",
        "titanic['Title'] = titanic.Name.str.extract(' ([A-Za-z]+)\\.', expand=False)\n",
        "# Se elimina el feature Name\n",
        "titanic = titanic.drop(columns='Name')\n",
        "titanic.head()"
      ]
    },
    {
      "cell_type": "code",
      "execution_count": null,
      "id": "fac72205",
      "metadata": {
        "id": "fac72205",
        "outputId": "b2769968-a362-4b7a-a2dd-f72410264524"
      },
      "outputs": [
        {
          "data": {
            "image/png": "[encoded data removed]",
            "text/plain": [
              "<Figure size 1440x360 with 1 Axes>"
            ]
          },
          "metadata": {},
          "output_type": "display_data"
        }
      ],
      "source": [
        "# Vemos graficamente como quedó el feature Title\n",
        "plt.figure(figsize=(20,5))\n",
        "figure = titanic.Title.value_counts().plot(kind='bar')\n",
        "plt.xticks(rotation=0, fontsize=12)\n",
        "figure.set_xlabel('Título',fontsize=14)\n",
        "figure.set_ylabel('Cantidad de pasajeros',fontsize=14)\n",
        "plt.show()"
      ]
    },
    {
      "cell_type": "markdown",
      "id": "608138cf",
      "metadata": {
        "id": "608138cf"
      },
      "source": [
        "Como tenemos demasiadas clases con pocos ejemplos vamos a combinar algunas de ellas y agrupar a los casos de títulos \"raros\" en \"Others_titles\". Además corregimos algunos errores.\n"
      ]
    },
    {
      "cell_type": "code",
      "execution_count": null,
      "id": "3f529fc8",
      "metadata": {
        "id": "3f529fc8",
        "outputId": "67a25d23-5e2b-4230-b401-79455a092416"
      },
      "outputs": [
        {
          "data": {
            "text/html": [
              "<div>\n",
              "<style scoped>\n",
              "    .dataframe tbody tr th:only-of-type {\n",
              "        vertical-align: middle;\n",
              "    }\n",
              "\n",
              "    .dataframe tbody tr th {\n",
              "        vertical-align: top;\n",
              "    }\n",
              "\n",
              "    .dataframe thead th {\n",
              "        text-align: right;\n",
              "    }\n",
              "</style>\n",
              "<table border=\"1\" class=\"dataframe\">\n",
              "  <thead>\n",
              "    <tr style=\"text-align: right;\">\n",
              "      <th></th>\n",
              "      <th>Survived</th>\n",
              "      <th>Pclass</th>\n",
              "      <th>Sex</th>\n",
              "      <th>Age</th>\n",
              "      <th>SibSp</th>\n",
              "      <th>Parch</th>\n",
              "      <th>Fare</th>\n",
              "      <th>Embarked</th>\n",
              "      <th>FamilySize</th>\n",
              "      <th>Title</th>\n",
              "    </tr>\n",
              "    <tr>\n",
              "      <th>PassengerId</th>\n",
              "      <th></th>\n",
              "      <th></th>\n",
              "      <th></th>\n",
              "      <th></th>\n",
              "      <th></th>\n",
              "      <th></th>\n",
              "      <th></th>\n",
              "      <th></th>\n",
              "      <th></th>\n",
              "      <th></th>\n",
              "    </tr>\n",
              "  </thead>\n",
              "  <tbody>\n",
              "    <tr>\n",
              "      <th>1</th>\n",
              "      <td>0</td>\n",
              "      <td>3</td>\n",
              "      <td>male</td>\n",
              "      <td>22.0</td>\n",
              "      <td>1</td>\n",
              "      <td>0</td>\n",
              "      <td>7.2500</td>\n",
              "      <td>S</td>\n",
              "      <td>2</td>\n",
              "      <td>Mr</td>\n",
              "    </tr>\n",
              "    <tr>\n",
              "      <th>2</th>\n",
              "      <td>1</td>\n",
              "      <td>1</td>\n",
              "      <td>female</td>\n",
              "      <td>38.0</td>\n",
              "      <td>1</td>\n",
              "      <td>0</td>\n",
              "      <td>71.2833</td>\n",
              "      <td>C</td>\n",
              "      <td>2</td>\n",
              "      <td>Mrs</td>\n",
              "    </tr>\n",
              "    <tr>\n",
              "      <th>3</th>\n",
              "      <td>1</td>\n",
              "      <td>3</td>\n",
              "      <td>female</td>\n",
              "      <td>26.0</td>\n",
              "      <td>0</td>\n",
              "      <td>0</td>\n",
              "      <td>7.9250</td>\n",
              "      <td>S</td>\n",
              "      <td>1</td>\n",
              "      <td>Miss</td>\n",
              "    </tr>\n",
              "    <tr>\n",
              "      <th>4</th>\n",
              "      <td>1</td>\n",
              "      <td>1</td>\n",
              "      <td>female</td>\n",
              "      <td>35.0</td>\n",
              "      <td>1</td>\n",
              "      <td>0</td>\n",
              "      <td>53.1000</td>\n",
              "      <td>S</td>\n",
              "      <td>2</td>\n",
              "      <td>Mrs</td>\n",
              "    </tr>\n",
              "    <tr>\n",
              "      <th>5</th>\n",
              "      <td>0</td>\n",
              "      <td>3</td>\n",
              "      <td>male</td>\n",
              "      <td>35.0</td>\n",
              "      <td>0</td>\n",
              "      <td>0</td>\n",
              "      <td>8.0500</td>\n",
              "      <td>S</td>\n",
              "      <td>1</td>\n",
              "      <td>Mr</td>\n",
              "    </tr>\n",
              "  </tbody>\n",
              "</table>\n",
              "</div>"
            ],
            "text/plain": [
              "             Survived  Pclass     Sex   Age  SibSp  Parch     Fare Embarked  \\\n",
              "PassengerId                                                                   \n",
              "1                   0       3    male  22.0      1      0   7.2500        S   \n",
              "2                   1       1  female  38.0      1      0  71.2833        C   \n",
              "3                   1       3  female  26.0      0      0   7.9250        S   \n",
              "4                   1       1  female  35.0      1      0  53.1000        S   \n",
              "5                   0       3    male  35.0      0      0   8.0500        S   \n",
              "\n",
              "             FamilySize Title  \n",
              "PassengerId                    \n",
              "1                     2    Mr  \n",
              "2                     2   Mrs  \n",
              "3                     1  Miss  \n",
              "4                     2   Mrs  \n",
              "5                     1    Mr  "
            ]
          },
          "execution_count": 464,
          "metadata": {},
          "output_type": "execute_result"
        }
      ],
      "source": [
        "# Corregimos errrores y creamos la categoría 'others_titles'\n",
        "titanic['Title'] = titanic['Title'].replace(['Dr', 'Rev', 'Col', 'Major', 'Countess', 'Sir', 'Jonkheer', 'Lady', 'Capt', 'Don'], 'Others_Titles')\n",
        "titanic['Title'] = titanic['Title'].replace('Ms', 'Miss')\n",
        "titanic['Title'] = titanic['Title'].replace('Mme', 'Mrs')\n",
        "titanic['Title'] = titanic['Title'].replace('Mlle', 'Miss')\n",
        "titanic.head()\n"
      ]
    },
    {
      "cell_type": "code",
      "execution_count": null,
      "id": "7c934260",
      "metadata": {
        "id": "7c934260",
        "outputId": "88848037-d283-4ba7-c21f-2d3f48a4bc44"
      },
      "outputs": [
        {
          "data": {
            "image/png": "[encoded data removed]",
            "text/plain": [
              "<Figure size 360x216 with 1 Axes>"
            ]
          },
          "metadata": {},
          "output_type": "display_data"
        }
      ],
      "source": [
        "plt.figure(figsize=(5,3))\n",
        "figure = titanic.Title.value_counts().sort_index().plot(kind='bar')\n",
        "plt.xticks(rotation=0, fontsize=12)\n",
        "figure.set_xlabel('Title', fontsize=12)\n",
        "figure.set_ylabel('Cantidad de pasajeros', fontsize=12)\n",
        "plt.show()"
      ]
    },
    {
      "cell_type": "code",
      "execution_count": null,
      "id": "46d37cff",
      "metadata": {
        "id": "46d37cff",
        "outputId": "170cfc3f-17bb-44f8-bfb2-588746a2b140"
      },
      "outputs": [
        {
          "data": {
            "image/png": "[encoded data removed]",
            "text/plain": [
              "<Figure size 360x216 with 1 Axes>"
            ]
          },
          "metadata": {},
          "output_type": "display_data"
        }
      ],
      "source": [
        "plt.figure(figsize=(5,3))\n",
        "figure = titanic[['Title', 'Survived']].groupby('Title').mean().Survived.plot(kind='bar')\n",
        "figure.set_xlabel('Title', fontsize=12)\n",
        "figure.set_ylabel('Probabilidad de Sobrevivir', fontsize=12)\n",
        "plt.show()"
      ]
    },
    {
      "cell_type": "markdown",
      "id": "15e18042",
      "metadata": {
        "id": "15e18042"
      },
      "source": [
        "### Manejo de valores faltantes:  'Age' y 'Embarked'\n",
        "\n",
        "Analicemos ahora los features con valores faltantes: 'Age' y 'Embarked'"
      ]
    },
    {
      "cell_type": "code",
      "execution_count": null,
      "id": "7e245e33",
      "metadata": {
        "id": "7e245e33",
        "outputId": "dd00273d-aeed-4b2b-b060-3b07dfcbf08b"
      },
      "outputs": [
        {
          "data": {
            "text/plain": [
              "177"
            ]
          },
          "execution_count": 467,
          "metadata": {},
          "output_type": "execute_result"
        }
      ],
      "source": [
        "# Cantidad de valores faltantes de Age\n",
        "titanic['Age'].isnull().sum()"
      ]
    },
    {
      "cell_type": "markdown",
      "id": "a02ca1e9",
      "metadata": {
        "id": "a02ca1e9"
      },
      "source": [
        "En el caso de 'Age' vamos a llenar los valores faltantes con la edad promedio de las personas que no sobrevivieron"
      ]
    },
    {
      "cell_type": "code",
      "execution_count": null,
      "id": "99c76d27",
      "metadata": {
        "id": "99c76d27"
      },
      "outputs": [],
      "source": [
        "#Buscamos la edad promedio de los pasajeros que no sobrevivieron\n",
        "titanic['Age'] = titanic.Age.fillna(titanic[titanic.Survived==0].Age.mean())"
      ]
    },
    {
      "cell_type": "code",
      "execution_count": null,
      "id": "d0273c90",
      "metadata": {
        "id": "d0273c90",
        "outputId": "fc288caa-281b-434c-f66b-7f51e02b8311"
      },
      "outputs": [
        {
          "data": {
            "text/plain": [
              "2"
            ]
          },
          "execution_count": 469,
          "metadata": {},
          "output_type": "execute_result"
        }
      ],
      "source": [
        "# Cantidad de valores faltantes de Embarked\n",
        "titanic['Embarked'].isnull().sum()"
      ]
    },
    {
      "cell_type": "code",
      "execution_count": null,
      "id": "6a1b5b1d",
      "metadata": {
        "id": "6a1b5b1d",
        "outputId": "b14ec48e-0a92-4ae3-d370-acaec0af51ca"
      },
      "outputs": [
        {
          "data": {
            "text/plain": [
              "count     889\n",
              "unique      3\n",
              "top         S\n",
              "freq      644\n",
              "Name: Embarked, dtype: object"
            ]
          },
          "execution_count": 470,
          "metadata": {},
          "output_type": "execute_result"
        }
      ],
      "source": [
        "# Analizamos estadisticamente el feature Embarked\n",
        "titanic['Embarked'].describe()"
      ]
    },
    {
      "cell_type": "markdown",
      "id": "66ed79ab",
      "metadata": {
        "id": "66ed79ab"
      },
      "source": [
        "- Vemos que de los 889 valores, hay 3 clases unicas y la que más se repite es el puerto de S (Southampton). Vamor a usar este valor para completar los faltantes"
      ]
    },
    {
      "cell_type": "code",
      "execution_count": null,
      "id": "bfea1b34",
      "metadata": {
        "id": "bfea1b34",
        "outputId": "f497407d-7587-46ca-af7d-e4401a7894b7"
      },
      "outputs": [
        {
          "data": {
            "text/html": [
              "<div>\n",
              "<style scoped>\n",
              "    .dataframe tbody tr th:only-of-type {\n",
              "        vertical-align: middle;\n",
              "    }\n",
              "\n",
              "    .dataframe tbody tr th {\n",
              "        vertical-align: top;\n",
              "    }\n",
              "\n",
              "    .dataframe thead th {\n",
              "        text-align: right;\n",
              "    }\n",
              "</style>\n",
              "<table border=\"1\" class=\"dataframe\">\n",
              "  <thead>\n",
              "    <tr style=\"text-align: right;\">\n",
              "      <th></th>\n",
              "      <th>Survived</th>\n",
              "      <th>Pclass</th>\n",
              "      <th>Sex</th>\n",
              "      <th>Age</th>\n",
              "      <th>SibSp</th>\n",
              "      <th>Parch</th>\n",
              "      <th>Fare</th>\n",
              "      <th>Embarked</th>\n",
              "      <th>FamilySize</th>\n",
              "      <th>Title</th>\n",
              "    </tr>\n",
              "    <tr>\n",
              "      <th>PassengerId</th>\n",
              "      <th></th>\n",
              "      <th></th>\n",
              "      <th></th>\n",
              "      <th></th>\n",
              "      <th></th>\n",
              "      <th></th>\n",
              "      <th></th>\n",
              "      <th></th>\n",
              "      <th></th>\n",
              "      <th></th>\n",
              "    </tr>\n",
              "  </thead>\n",
              "  <tbody>\n",
              "    <tr>\n",
              "      <th>1</th>\n",
              "      <td>0</td>\n",
              "      <td>3</td>\n",
              "      <td>male</td>\n",
              "      <td>22.0</td>\n",
              "      <td>1</td>\n",
              "      <td>0</td>\n",
              "      <td>7.2500</td>\n",
              "      <td>S</td>\n",
              "      <td>2</td>\n",
              "      <td>Mr</td>\n",
              "    </tr>\n",
              "    <tr>\n",
              "      <th>2</th>\n",
              "      <td>1</td>\n",
              "      <td>1</td>\n",
              "      <td>female</td>\n",
              "      <td>38.0</td>\n",
              "      <td>1</td>\n",
              "      <td>0</td>\n",
              "      <td>71.2833</td>\n",
              "      <td>C</td>\n",
              "      <td>2</td>\n",
              "      <td>Mrs</td>\n",
              "    </tr>\n",
              "    <tr>\n",
              "      <th>3</th>\n",
              "      <td>1</td>\n",
              "      <td>3</td>\n",
              "      <td>female</td>\n",
              "      <td>26.0</td>\n",
              "      <td>0</td>\n",
              "      <td>0</td>\n",
              "      <td>7.9250</td>\n",
              "      <td>S</td>\n",
              "      <td>1</td>\n",
              "      <td>Miss</td>\n",
              "    </tr>\n",
              "    <tr>\n",
              "      <th>4</th>\n",
              "      <td>1</td>\n",
              "      <td>1</td>\n",
              "      <td>female</td>\n",
              "      <td>35.0</td>\n",
              "      <td>1</td>\n",
              "      <td>0</td>\n",
              "      <td>53.1000</td>\n",
              "      <td>S</td>\n",
              "      <td>2</td>\n",
              "      <td>Mrs</td>\n",
              "    </tr>\n",
              "    <tr>\n",
              "      <th>5</th>\n",
              "      <td>0</td>\n",
              "      <td>3</td>\n",
              "      <td>male</td>\n",
              "      <td>35.0</td>\n",
              "      <td>0</td>\n",
              "      <td>0</td>\n",
              "      <td>8.0500</td>\n",
              "      <td>S</td>\n",
              "      <td>1</td>\n",
              "      <td>Mr</td>\n",
              "    </tr>\n",
              "  </tbody>\n",
              "</table>\n",
              "</div>"
            ],
            "text/plain": [
              "             Survived  Pclass     Sex   Age  SibSp  Parch     Fare Embarked  \\\n",
              "PassengerId                                                                   \n",
              "1                   0       3    male  22.0      1      0   7.2500        S   \n",
              "2                   1       1  female  38.0      1      0  71.2833        C   \n",
              "3                   1       3  female  26.0      0      0   7.9250        S   \n",
              "4                   1       1  female  35.0      1      0  53.1000        S   \n",
              "5                   0       3    male  35.0      0      0   8.0500        S   \n",
              "\n",
              "             FamilySize Title  \n",
              "PassengerId                    \n",
              "1                     2    Mr  \n",
              "2                     2   Mrs  \n",
              "3                     1  Miss  \n",
              "4                     2   Mrs  \n",
              "5                     1    Mr  "
            ]
          },
          "execution_count": 471,
          "metadata": {},
          "output_type": "execute_result"
        }
      ],
      "source": [
        "common_value = 'S'\n",
        "titanic['Embarked'] = titanic['Embarked'].fillna(common_value)\n",
        "titanic.head()"
      ]
    },
    {
      "cell_type": "code",
      "execution_count": null,
      "id": "dc74cde7",
      "metadata": {
        "id": "dc74cde7",
        "outputId": "f6e53aa6-469f-40be-b1ab-a209b6b04591"
      },
      "outputs": [
        {
          "data": {
            "text/plain": [
              "Survived      0\n",
              "Pclass        0\n",
              "Sex           0\n",
              "Age           0\n",
              "SibSp         0\n",
              "Parch         0\n",
              "Fare          0\n",
              "Embarked      0\n",
              "FamilySize    0\n",
              "Title         0\n",
              "dtype: int64"
            ]
          },
          "execution_count": 472,
          "metadata": {},
          "output_type": "execute_result"
        }
      ],
      "source": [
        "titanic.isnull().sum()\n"
      ]
    },
    {
      "cell_type": "markdown",
      "id": "cd2652b9",
      "metadata": {
        "id": "cd2652b9"
      },
      "source": [
        "### Manejo de features categóricos:  'Sex', 'Embarked', 'Pclass' y 'Title'"
      ]
    },
    {
      "cell_type": "markdown",
      "id": "50041ca0",
      "metadata": {
        "id": "50041ca0"
      },
      "source": [
        "La mayoría de los algoritmos de ML no pueden manejar datos categeoricos. Es por ello que hay que pasarlos a valores numéricos. Analicemos los features categóricos presentes en el dataset.\n",
        "\n",
        "Para la visualización de features categóricos la librería Seaborn ofrece un gráfico, conocida como catplot(), que permite comparar valores categóricos en tan sólo una línea de código.\n",
        "\n",
        "Analicemos todos los pares de features categóricos del dataset (algunos ofrecen más información que otros)\n"
      ]
    },
    {
      "cell_type": "code",
      "execution_count": null,
      "id": "a6983fb5",
      "metadata": {
        "id": "a6983fb5",
        "outputId": "63edb238-3783-4569-d2fb-1ae97bc68133"
      },
      "outputs": [
        {
          "data": {
            "text/plain": [
              "<seaborn.axisgrid.FacetGrid at 0x7fa93a37dfd0>"
            ]
          },
          "execution_count": 473,
          "metadata": {},
          "output_type": "execute_result"
        },
        {
          "data": {
            "image/png": "[encoded data removed]",
            "text/plain": [
              "<Figure size 648x216 with 3 Axes>"
            ]
          },
          "metadata": {},
          "output_type": "display_data"
        },
        {
          "data": {
            "image/png": "[encoded data removed]",
            "text/plain": [
              "<Figure size 648x216 with 3 Axes>"
            ]
          },
          "metadata": {},
          "output_type": "display_data"
        },
        {
          "data": {
            "image/png": "[encoded data removed]",
            "text/plain": [
              "<Figure size 1080x216 with 5 Axes>"
            ]
          },
          "metadata": {},
          "output_type": "display_data"
        },
        {
          "data": {
            "image/png": "[encoded data removed]",
            "text/plain": [
              "<Figure size 648x216 with 3 Axes>"
            ]
          },
          "metadata": {},
          "output_type": "display_data"
        },
        {
          "data": {
            "image/png": "[encoded data removed]",
            "text/plain": [
              "<Figure size 1080x216 with 5 Axes>"
            ]
          },
          "metadata": {},
          "output_type": "display_data"
        },
        {
          "data": {
            "image/png": "[encoded data removed]",
            "text/plain": [
              "<Figure size 1080x216 with 5 Axes>"
            ]
          },
          "metadata": {},
          "output_type": "display_data"
        }
      ],
      "source": [
        "sns.set(font_scale=1)\n",
        "\n",
        "# Combinamos todos los pares de features categóricos\n",
        "sns.catplot(x='Sex', col = 'Embarked', data = titanic, kind = 'count', height=3)\n",
        "sns.catplot(x='Sex', col = 'Pclass', data = titanic, kind = 'count', height=3)\n",
        "sns.catplot(x='Sex', col = 'Title', data = titanic, kind = 'count', height=3)\n",
        "\n",
        "sns.catplot(x='Embarked', col='Pclass', data=titanic, kind='count', height=3)\n",
        "sns.catplot(x='Embarked', col='Title', data=titanic, kind='count', height=3)\n",
        "\n",
        "sns.catplot(x='Pclass', col='Title', data=titanic, kind='count', height=3)\n"
      ]
    },
    {
      "cell_type": "markdown",
      "id": "b24253cd",
      "metadata": {
        "id": "b24253cd"
      },
      "source": [
        "##### One-hot encoding\n",
        "Lo primero que vamos a hacer para el manejo de features categoricos es utilizar la técnica de one-hot encoding para 'Sex', 'Embarked' y 'Title'"
      ]
    },
    {
      "cell_type": "code",
      "execution_count": null,
      "id": "293c2a72",
      "metadata": {
        "id": "293c2a72",
        "outputId": "777cb7b9-6b96-456b-ab40-6a1e23ceee27"
      },
      "outputs": [
        {
          "data": {
            "text/html": [
              "<div>\n",
              "<style scoped>\n",
              "    .dataframe tbody tr th:only-of-type {\n",
              "        vertical-align: middle;\n",
              "    }\n",
              "\n",
              "    .dataframe tbody tr th {\n",
              "        vertical-align: top;\n",
              "    }\n",
              "\n",
              "    .dataframe thead th {\n",
              "        text-align: right;\n",
              "    }\n",
              "</style>\n",
              "<table border=\"1\" class=\"dataframe\">\n",
              "  <thead>\n",
              "    <tr style=\"text-align: right;\">\n",
              "      <th></th>\n",
              "      <th>Survived</th>\n",
              "      <th>Pclass</th>\n",
              "      <th>Sex</th>\n",
              "      <th>Age</th>\n",
              "      <th>SibSp</th>\n",
              "      <th>Parch</th>\n",
              "      <th>Fare</th>\n",
              "      <th>Embarked</th>\n",
              "      <th>FamilySize</th>\n",
              "      <th>Title</th>\n",
              "      <th>Female</th>\n",
              "      <th>Male</th>\n",
              "    </tr>\n",
              "    <tr>\n",
              "      <th>PassengerId</th>\n",
              "      <th></th>\n",
              "      <th></th>\n",
              "      <th></th>\n",
              "      <th></th>\n",
              "      <th></th>\n",
              "      <th></th>\n",
              "      <th></th>\n",
              "      <th></th>\n",
              "      <th></th>\n",
              "      <th></th>\n",
              "      <th></th>\n",
              "      <th></th>\n",
              "    </tr>\n",
              "  </thead>\n",
              "  <tbody>\n",
              "    <tr>\n",
              "      <th>1</th>\n",
              "      <td>0</td>\n",
              "      <td>3</td>\n",
              "      <td>male</td>\n",
              "      <td>22.0</td>\n",
              "      <td>1</td>\n",
              "      <td>0</td>\n",
              "      <td>7.2500</td>\n",
              "      <td>S</td>\n",
              "      <td>2</td>\n",
              "      <td>Mr</td>\n",
              "      <td>0</td>\n",
              "      <td>1</td>\n",
              "    </tr>\n",
              "    <tr>\n",
              "      <th>2</th>\n",
              "      <td>1</td>\n",
              "      <td>1</td>\n",
              "      <td>female</td>\n",
              "      <td>38.0</td>\n",
              "      <td>1</td>\n",
              "      <td>0</td>\n",
              "      <td>71.2833</td>\n",
              "      <td>C</td>\n",
              "      <td>2</td>\n",
              "      <td>Mrs</td>\n",
              "      <td>1</td>\n",
              "      <td>0</td>\n",
              "    </tr>\n",
              "    <tr>\n",
              "      <th>3</th>\n",
              "      <td>1</td>\n",
              "      <td>3</td>\n",
              "      <td>female</td>\n",
              "      <td>26.0</td>\n",
              "      <td>0</td>\n",
              "      <td>0</td>\n",
              "      <td>7.9250</td>\n",
              "      <td>S</td>\n",
              "      <td>1</td>\n",
              "      <td>Miss</td>\n",
              "      <td>1</td>\n",
              "      <td>0</td>\n",
              "    </tr>\n",
              "    <tr>\n",
              "      <th>4</th>\n",
              "      <td>1</td>\n",
              "      <td>1</td>\n",
              "      <td>female</td>\n",
              "      <td>35.0</td>\n",
              "      <td>1</td>\n",
              "      <td>0</td>\n",
              "      <td>53.1000</td>\n",
              "      <td>S</td>\n",
              "      <td>2</td>\n",
              "      <td>Mrs</td>\n",
              "      <td>1</td>\n",
              "      <td>0</td>\n",
              "    </tr>\n",
              "    <tr>\n",
              "      <th>5</th>\n",
              "      <td>0</td>\n",
              "      <td>3</td>\n",
              "      <td>male</td>\n",
              "      <td>35.0</td>\n",
              "      <td>0</td>\n",
              "      <td>0</td>\n",
              "      <td>8.0500</td>\n",
              "      <td>S</td>\n",
              "      <td>1</td>\n",
              "      <td>Mr</td>\n",
              "      <td>0</td>\n",
              "      <td>1</td>\n",
              "    </tr>\n",
              "  </tbody>\n",
              "</table>\n",
              "</div>"
            ],
            "text/plain": [
              "             Survived  Pclass     Sex   Age  SibSp  Parch     Fare Embarked  \\\n",
              "PassengerId                                                                   \n",
              "1                   0       3    male  22.0      1      0   7.2500        S   \n",
              "2                   1       1  female  38.0      1      0  71.2833        C   \n",
              "3                   1       3  female  26.0      0      0   7.9250        S   \n",
              "4                   1       1  female  35.0      1      0  53.1000        S   \n",
              "5                   0       3    male  35.0      0      0   8.0500        S   \n",
              "\n",
              "             FamilySize Title  Female  Male  \n",
              "PassengerId                                  \n",
              "1                     2    Mr       0     1  \n",
              "2                     2   Mrs       1     0  \n",
              "3                     1  Miss       1     0  \n",
              "4                     2   Mrs       1     0  \n",
              "5                     1    Mr       0     1  "
            ]
          },
          "execution_count": 474,
          "metadata": {},
          "output_type": "execute_result"
        }
      ],
      "source": [
        "# El método get_dummies de pandas nos simplifica la tarea de hace one-hot encoding en valores categóricos\n",
        "# El primer parámetro define el nombre del feature categórico\n",
        "male_female_df = pd.get_dummies(titanic.Sex)\n",
        "\n",
        "# Renombramos las columnas generadas para unificar formato con el resto\n",
        "male_female_df.rename(columns = {'male':'Male', 'female':'Female'}, inplace = True)\n",
        "\n",
        "# Concatenamos las nuevas columnas a nuestro dataset\n",
        "titanic = pd.concat([titanic, male_female_df], axis=1)\n",
        "\n",
        "titanic.head()"
      ]
    },
    {
      "cell_type": "code",
      "execution_count": null,
      "id": "81b365db",
      "metadata": {
        "id": "81b365db",
        "outputId": "915e182f-c55a-4162-837a-7e78b1dac186"
      },
      "outputs": [
        {
          "data": {
            "text/html": [
              "<div>\n",
              "<style scoped>\n",
              "    .dataframe tbody tr th:only-of-type {\n",
              "        vertical-align: middle;\n",
              "    }\n",
              "\n",
              "    .dataframe tbody tr th {\n",
              "        vertical-align: top;\n",
              "    }\n",
              "\n",
              "    .dataframe thead th {\n",
              "        text-align: right;\n",
              "    }\n",
              "</style>\n",
              "<table border=\"1\" class=\"dataframe\">\n",
              "  <thead>\n",
              "    <tr style=\"text-align: right;\">\n",
              "      <th></th>\n",
              "      <th>Survived</th>\n",
              "      <th>Pclass</th>\n",
              "      <th>Sex</th>\n",
              "      <th>Age</th>\n",
              "      <th>SibSp</th>\n",
              "      <th>Parch</th>\n",
              "      <th>Fare</th>\n",
              "      <th>Embarked</th>\n",
              "      <th>FamilySize</th>\n",
              "      <th>Title</th>\n",
              "      <th>Female</th>\n",
              "      <th>Male</th>\n",
              "      <th>Embarked_C</th>\n",
              "      <th>Embarked_Q</th>\n",
              "      <th>Embarked_S</th>\n",
              "    </tr>\n",
              "    <tr>\n",
              "      <th>PassengerId</th>\n",
              "      <th></th>\n",
              "      <th></th>\n",
              "      <th></th>\n",
              "      <th></th>\n",
              "      <th></th>\n",
              "      <th></th>\n",
              "      <th></th>\n",
              "      <th></th>\n",
              "      <th></th>\n",
              "      <th></th>\n",
              "      <th></th>\n",
              "      <th></th>\n",
              "      <th></th>\n",
              "      <th></th>\n",
              "      <th></th>\n",
              "    </tr>\n",
              "  </thead>\n",
              "  <tbody>\n",
              "    <tr>\n",
              "      <th>1</th>\n",
              "      <td>0</td>\n",
              "      <td>3</td>\n",
              "      <td>male</td>\n",
              "      <td>22.0</td>\n",
              "      <td>1</td>\n",
              "      <td>0</td>\n",
              "      <td>7.2500</td>\n",
              "      <td>S</td>\n",
              "      <td>2</td>\n",
              "      <td>Mr</td>\n",
              "      <td>0</td>\n",
              "      <td>1</td>\n",
              "      <td>0</td>\n",
              "      <td>0</td>\n",
              "      <td>1</td>\n",
              "    </tr>\n",
              "    <tr>\n",
              "      <th>2</th>\n",
              "      <td>1</td>\n",
              "      <td>1</td>\n",
              "      <td>female</td>\n",
              "      <td>38.0</td>\n",
              "      <td>1</td>\n",
              "      <td>0</td>\n",
              "      <td>71.2833</td>\n",
              "      <td>C</td>\n",
              "      <td>2</td>\n",
              "      <td>Mrs</td>\n",
              "      <td>1</td>\n",
              "      <td>0</td>\n",
              "      <td>1</td>\n",
              "      <td>0</td>\n",
              "      <td>0</td>\n",
              "    </tr>\n",
              "    <tr>\n",
              "      <th>3</th>\n",
              "      <td>1</td>\n",
              "      <td>3</td>\n",
              "      <td>female</td>\n",
              "      <td>26.0</td>\n",
              "      <td>0</td>\n",
              "      <td>0</td>\n",
              "      <td>7.9250</td>\n",
              "      <td>S</td>\n",
              "      <td>1</td>\n",
              "      <td>Miss</td>\n",
              "      <td>1</td>\n",
              "      <td>0</td>\n",
              "      <td>0</td>\n",
              "      <td>0</td>\n",
              "      <td>1</td>\n",
              "    </tr>\n",
              "    <tr>\n",
              "      <th>4</th>\n",
              "      <td>1</td>\n",
              "      <td>1</td>\n",
              "      <td>female</td>\n",
              "      <td>35.0</td>\n",
              "      <td>1</td>\n",
              "      <td>0</td>\n",
              "      <td>53.1000</td>\n",
              "      <td>S</td>\n",
              "      <td>2</td>\n",
              "      <td>Mrs</td>\n",
              "      <td>1</td>\n",
              "      <td>0</td>\n",
              "      <td>0</td>\n",
              "      <td>0</td>\n",
              "      <td>1</td>\n",
              "    </tr>\n",
              "    <tr>\n",
              "      <th>5</th>\n",
              "      <td>0</td>\n",
              "      <td>3</td>\n",
              "      <td>male</td>\n",
              "      <td>35.0</td>\n",
              "      <td>0</td>\n",
              "      <td>0</td>\n",
              "      <td>8.0500</td>\n",
              "      <td>S</td>\n",
              "      <td>1</td>\n",
              "      <td>Mr</td>\n",
              "      <td>0</td>\n",
              "      <td>1</td>\n",
              "      <td>0</td>\n",
              "      <td>0</td>\n",
              "      <td>1</td>\n",
              "    </tr>\n",
              "  </tbody>\n",
              "</table>\n",
              "</div>"
            ],
            "text/plain": [
              "             Survived  Pclass     Sex   Age  SibSp  Parch     Fare Embarked  \\\n",
              "PassengerId                                                                   \n",
              "1                   0       3    male  22.0      1      0   7.2500        S   \n",
              "2                   1       1  female  38.0      1      0  71.2833        C   \n",
              "3                   1       3  female  26.0      0      0   7.9250        S   \n",
              "4                   1       1  female  35.0      1      0  53.1000        S   \n",
              "5                   0       3    male  35.0      0      0   8.0500        S   \n",
              "\n",
              "             FamilySize Title  Female  Male  Embarked_C  Embarked_Q  \\\n",
              "PassengerId                                                           \n",
              "1                     2    Mr       0     1           0           0   \n",
              "2                     2   Mrs       1     0           1           0   \n",
              "3                     1  Miss       1     0           0           0   \n",
              "4                     2   Mrs       1     0           0           0   \n",
              "5                     1    Mr       0     1           0           0   \n",
              "\n",
              "             Embarked_S  \n",
              "PassengerId              \n",
              "1                     1  \n",
              "2                     0  \n",
              "3                     1  \n",
              "4                     1  \n",
              "5                     1  "
            ]
          },
          "execution_count": 475,
          "metadata": {},
          "output_type": "execute_result"
        }
      ],
      "source": [
        "# Hacemos lo mismo para la feature 'Embarked'\n",
        "embarked_df = pd.get_dummies(titanic.Embarked, prefix='Embarked')\n",
        "titanic = pd.concat([titanic, embarked_df], axis=1)\n",
        "titanic.head()"
      ]
    },
    {
      "cell_type": "code",
      "execution_count": null,
      "id": "3a7853d9",
      "metadata": {
        "id": "3a7853d9",
        "outputId": "77cf5a14-197e-4ce7-d152-1328ed4c2c94"
      },
      "outputs": [
        {
          "data": {
            "text/html": [
              "<div>\n",
              "<style scoped>\n",
              "    .dataframe tbody tr th:only-of-type {\n",
              "        vertical-align: middle;\n",
              "    }\n",
              "\n",
              "    .dataframe tbody tr th {\n",
              "        vertical-align: top;\n",
              "    }\n",
              "\n",
              "    .dataframe thead th {\n",
              "        text-align: right;\n",
              "    }\n",
              "</style>\n",
              "<table border=\"1\" class=\"dataframe\">\n",
              "  <thead>\n",
              "    <tr style=\"text-align: right;\">\n",
              "      <th></th>\n",
              "      <th>Survived</th>\n",
              "      <th>Pclass</th>\n",
              "      <th>Sex</th>\n",
              "      <th>Age</th>\n",
              "      <th>SibSp</th>\n",
              "      <th>Parch</th>\n",
              "      <th>Fare</th>\n",
              "      <th>Embarked</th>\n",
              "      <th>FamilySize</th>\n",
              "      <th>Title</th>\n",
              "      <th>Female</th>\n",
              "      <th>Male</th>\n",
              "      <th>Embarked_C</th>\n",
              "      <th>Embarked_Q</th>\n",
              "      <th>Embarked_S</th>\n",
              "      <th>Master</th>\n",
              "      <th>Miss</th>\n",
              "      <th>Mr</th>\n",
              "      <th>Mrs</th>\n",
              "      <th>Others_Titles</th>\n",
              "    </tr>\n",
              "    <tr>\n",
              "      <th>PassengerId</th>\n",
              "      <th></th>\n",
              "      <th></th>\n",
              "      <th></th>\n",
              "      <th></th>\n",
              "      <th></th>\n",
              "      <th></th>\n",
              "      <th></th>\n",
              "      <th></th>\n",
              "      <th></th>\n",
              "      <th></th>\n",
              "      <th></th>\n",
              "      <th></th>\n",
              "      <th></th>\n",
              "      <th></th>\n",
              "      <th></th>\n",
              "      <th></th>\n",
              "      <th></th>\n",
              "      <th></th>\n",
              "      <th></th>\n",
              "      <th></th>\n",
              "    </tr>\n",
              "  </thead>\n",
              "  <tbody>\n",
              "    <tr>\n",
              "      <th>1</th>\n",
              "      <td>0</td>\n",
              "      <td>3</td>\n",
              "      <td>male</td>\n",
              "      <td>22.0</td>\n",
              "      <td>1</td>\n",
              "      <td>0</td>\n",
              "      <td>7.2500</td>\n",
              "      <td>S</td>\n",
              "      <td>2</td>\n",
              "      <td>Mr</td>\n",
              "      <td>0</td>\n",
              "      <td>1</td>\n",
              "      <td>0</td>\n",
              "      <td>0</td>\n",
              "      <td>1</td>\n",
              "      <td>0</td>\n",
              "      <td>0</td>\n",
              "      <td>1</td>\n",
              "      <td>0</td>\n",
              "      <td>0</td>\n",
              "    </tr>\n",
              "    <tr>\n",
              "      <th>2</th>\n",
              "      <td>1</td>\n",
              "      <td>1</td>\n",
              "      <td>female</td>\n",
              "      <td>38.0</td>\n",
              "      <td>1</td>\n",
              "      <td>0</td>\n",
              "      <td>71.2833</td>\n",
              "      <td>C</td>\n",
              "      <td>2</td>\n",
              "      <td>Mrs</td>\n",
              "      <td>1</td>\n",
              "      <td>0</td>\n",
              "      <td>1</td>\n",
              "      <td>0</td>\n",
              "      <td>0</td>\n",
              "      <td>0</td>\n",
              "      <td>0</td>\n",
              "      <td>0</td>\n",
              "      <td>1</td>\n",
              "      <td>0</td>\n",
              "    </tr>\n",
              "    <tr>\n",
              "      <th>3</th>\n",
              "      <td>1</td>\n",
              "      <td>3</td>\n",
              "      <td>female</td>\n",
              "      <td>26.0</td>\n",
              "      <td>0</td>\n",
              "      <td>0</td>\n",
              "      <td>7.9250</td>\n",
              "      <td>S</td>\n",
              "      <td>1</td>\n",
              "      <td>Miss</td>\n",
              "      <td>1</td>\n",
              "      <td>0</td>\n",
              "      <td>0</td>\n",
              "      <td>0</td>\n",
              "      <td>1</td>\n",
              "      <td>0</td>\n",
              "      <td>1</td>\n",
              "      <td>0</td>\n",
              "      <td>0</td>\n",
              "      <td>0</td>\n",
              "    </tr>\n",
              "    <tr>\n",
              "      <th>4</th>\n",
              "      <td>1</td>\n",
              "      <td>1</td>\n",
              "      <td>female</td>\n",
              "      <td>35.0</td>\n",
              "      <td>1</td>\n",
              "      <td>0</td>\n",
              "      <td>53.1000</td>\n",
              "      <td>S</td>\n",
              "      <td>2</td>\n",
              "      <td>Mrs</td>\n",
              "      <td>1</td>\n",
              "      <td>0</td>\n",
              "      <td>0</td>\n",
              "      <td>0</td>\n",
              "      <td>1</td>\n",
              "      <td>0</td>\n",
              "      <td>0</td>\n",
              "      <td>0</td>\n",
              "      <td>1</td>\n",
              "      <td>0</td>\n",
              "    </tr>\n",
              "    <tr>\n",
              "      <th>5</th>\n",
              "      <td>0</td>\n",
              "      <td>3</td>\n",
              "      <td>male</td>\n",
              "      <td>35.0</td>\n",
              "      <td>0</td>\n",
              "      <td>0</td>\n",
              "      <td>8.0500</td>\n",
              "      <td>S</td>\n",
              "      <td>1</td>\n",
              "      <td>Mr</td>\n",
              "      <td>0</td>\n",
              "      <td>1</td>\n",
              "      <td>0</td>\n",
              "      <td>0</td>\n",
              "      <td>1</td>\n",
              "      <td>0</td>\n",
              "      <td>0</td>\n",
              "      <td>1</td>\n",
              "      <td>0</td>\n",
              "      <td>0</td>\n",
              "    </tr>\n",
              "  </tbody>\n",
              "</table>\n",
              "</div>"
            ],
            "text/plain": [
              "             Survived  Pclass     Sex   Age  SibSp  Parch     Fare Embarked  \\\n",
              "PassengerId                                                                   \n",
              "1                   0       3    male  22.0      1      0   7.2500        S   \n",
              "2                   1       1  female  38.0      1      0  71.2833        C   \n",
              "3                   1       3  female  26.0      0      0   7.9250        S   \n",
              "4                   1       1  female  35.0      1      0  53.1000        S   \n",
              "5                   0       3    male  35.0      0      0   8.0500        S   \n",
              "\n",
              "             FamilySize Title  Female  Male  Embarked_C  Embarked_Q  \\\n",
              "PassengerId                                                           \n",
              "1                     2    Mr       0     1           0           0   \n",
              "2                     2   Mrs       1     0           1           0   \n",
              "3                     1  Miss       1     0           0           0   \n",
              "4                     2   Mrs       1     0           0           0   \n",
              "5                     1    Mr       0     1           0           0   \n",
              "\n",
              "             Embarked_S  Master  Miss  Mr  Mrs  Others_Titles  \n",
              "PassengerId                                                    \n",
              "1                     1       0     0   1    0              0  \n",
              "2                     0       0     0   0    1              0  \n",
              "3                     1       0     1   0    0              0  \n",
              "4                     1       0     0   0    1              0  \n",
              "5                     1       0     0   1    0              0  "
            ]
          },
          "execution_count": 476,
          "metadata": {},
          "output_type": "execute_result"
        }
      ],
      "source": [
        "# Finalmente, aplicamos one-hot encoding en el feature 'Title'\n",
        "title_df = pd.get_dummies(titanic.Title)\n",
        "titanic = pd.concat([titanic, title_df], axis=1)\n",
        "titanic.head()"
      ]
    },
    {
      "cell_type": "code",
      "execution_count": null,
      "id": "2aaab6d2",
      "metadata": {
        "id": "2aaab6d2"
      },
      "outputs": [],
      "source": [
        "titanic = titanic.drop(columns='Embarked')\n",
        "titanic = titanic.drop(columns='Title')\n",
        "titanic = titanic.drop(columns='Sex')\n"
      ]
    },
    {
      "cell_type": "markdown",
      "id": "48c1c0cd",
      "metadata": {
        "id": "48c1c0cd"
      },
      "source": [
        "### Análisis de Correlación\n",
        "\n",
        "Por último, vamos a realizar un análisis de correlación entre los distintos features numéricos buscando features innecesarios por estar altamente correlacionados con otros. Además podemos observar cuales son los features que mayor correlación presentan con el Label"
      ]
    },
    {
      "cell_type": "code",
      "execution_count": null,
      "id": "4614c4cb",
      "metadata": {
        "id": "4614c4cb",
        "outputId": "091d1bb7-73b1-4078-8e5b-71fe64e19c64"
      },
      "outputs": [
        {
          "data": {
            "image/png": "[encoded data removed]",
            "text/plain": [
              "<Figure size 1440x1440 with 2 Axes>"
            ]
          },
          "metadata": {},
          "output_type": "display_data"
        }
      ],
      "source": [
        "corr_matrix = titanic.corr(numeric_only=True)\n",
        "plt.figure(figsize=(20, 20))\n",
        "sns.heatmap(data = corr_matrix,cmap='BrBG', annot=True, linewidths=0.2)\n",
        "plt.show()"
      ]
    },
    {
      "cell_type": "markdown",
      "id": "e791c380",
      "metadata": {
        "id": "e791c380"
      },
      "source": [
        "Como es de esperar, SibSp y Parch estan altamente correlacionados con lel feature creado FamilySize.\n",
        "Es por ello que vamos a eliminar estos features y dejamos solamente la creada por nosotros"
      ]
    },
    {
      "cell_type": "code",
      "execution_count": null,
      "id": "d099d73f",
      "metadata": {
        "id": "d099d73f"
      },
      "outputs": [],
      "source": [
        "titanic = titanic.drop(columns=['SibSp', 'Parch'])"
      ]
    },
    {
      "cell_type": "code",
      "execution_count": null,
      "id": "72fdf420",
      "metadata": {
        "id": "72fdf420",
        "outputId": "83d020be-b3ed-4920-f89c-32dc81285971"
      },
      "outputs": [
        {
          "data": {
            "text/html": [
              "<div>\n",
              "<style scoped>\n",
              "    .dataframe tbody tr th:only-of-type {\n",
              "        vertical-align: middle;\n",
              "    }\n",
              "\n",
              "    .dataframe tbody tr th {\n",
              "        vertical-align: top;\n",
              "    }\n",
              "\n",
              "    .dataframe thead th {\n",
              "        text-align: right;\n",
              "    }\n",
              "</style>\n",
              "<table border=\"1\" class=\"dataframe\">\n",
              "  <thead>\n",
              "    <tr style=\"text-align: right;\">\n",
              "      <th></th>\n",
              "      <th>Survived</th>\n",
              "      <th>Pclass</th>\n",
              "      <th>Age</th>\n",
              "      <th>Fare</th>\n",
              "      <th>FamilySize</th>\n",
              "      <th>Female</th>\n",
              "      <th>Male</th>\n",
              "      <th>Embarked_C</th>\n",
              "      <th>Embarked_Q</th>\n",
              "      <th>Embarked_S</th>\n",
              "      <th>Master</th>\n",
              "      <th>Miss</th>\n",
              "      <th>Mr</th>\n",
              "      <th>Mrs</th>\n",
              "      <th>Others_Titles</th>\n",
              "    </tr>\n",
              "    <tr>\n",
              "      <th>PassengerId</th>\n",
              "      <th></th>\n",
              "      <th></th>\n",
              "      <th></th>\n",
              "      <th></th>\n",
              "      <th></th>\n",
              "      <th></th>\n",
              "      <th></th>\n",
              "      <th></th>\n",
              "      <th></th>\n",
              "      <th></th>\n",
              "      <th></th>\n",
              "      <th></th>\n",
              "      <th></th>\n",
              "      <th></th>\n",
              "      <th></th>\n",
              "    </tr>\n",
              "  </thead>\n",
              "  <tbody>\n",
              "    <tr>\n",
              "      <th>1</th>\n",
              "      <td>0</td>\n",
              "      <td>3</td>\n",
              "      <td>22.0</td>\n",
              "      <td>7.2500</td>\n",
              "      <td>2</td>\n",
              "      <td>0</td>\n",
              "      <td>1</td>\n",
              "      <td>0</td>\n",
              "      <td>0</td>\n",
              "      <td>1</td>\n",
              "      <td>0</td>\n",
              "      <td>0</td>\n",
              "      <td>1</td>\n",
              "      <td>0</td>\n",
              "      <td>0</td>\n",
              "    </tr>\n",
              "    <tr>\n",
              "      <th>2</th>\n",
              "      <td>1</td>\n",
              "      <td>1</td>\n",
              "      <td>38.0</td>\n",
              "      <td>71.2833</td>\n",
              "      <td>2</td>\n",
              "      <td>1</td>\n",
              "      <td>0</td>\n",
              "      <td>1</td>\n",
              "      <td>0</td>\n",
              "      <td>0</td>\n",
              "      <td>0</td>\n",
              "      <td>0</td>\n",
              "      <td>0</td>\n",
              "      <td>1</td>\n",
              "      <td>0</td>\n",
              "    </tr>\n",
              "    <tr>\n",
              "      <th>3</th>\n",
              "      <td>1</td>\n",
              "      <td>3</td>\n",
              "      <td>26.0</td>\n",
              "      <td>7.9250</td>\n",
              "      <td>1</td>\n",
              "      <td>1</td>\n",
              "      <td>0</td>\n",
              "      <td>0</td>\n",
              "      <td>0</td>\n",
              "      <td>1</td>\n",
              "      <td>0</td>\n",
              "      <td>1</td>\n",
              "      <td>0</td>\n",
              "      <td>0</td>\n",
              "      <td>0</td>\n",
              "    </tr>\n",
              "    <tr>\n",
              "      <th>4</th>\n",
              "      <td>1</td>\n",
              "      <td>1</td>\n",
              "      <td>35.0</td>\n",
              "      <td>53.1000</td>\n",
              "      <td>2</td>\n",
              "      <td>1</td>\n",
              "      <td>0</td>\n",
              "      <td>0</td>\n",
              "      <td>0</td>\n",
              "      <td>1</td>\n",
              "      <td>0</td>\n",
              "      <td>0</td>\n",
              "      <td>0</td>\n",
              "      <td>1</td>\n",
              "      <td>0</td>\n",
              "    </tr>\n",
              "    <tr>\n",
              "      <th>5</th>\n",
              "      <td>0</td>\n",
              "      <td>3</td>\n",
              "      <td>35.0</td>\n",
              "      <td>8.0500</td>\n",
              "      <td>1</td>\n",
              "      <td>0</td>\n",
              "      <td>1</td>\n",
              "      <td>0</td>\n",
              "      <td>0</td>\n",
              "      <td>1</td>\n",
              "      <td>0</td>\n",
              "      <td>0</td>\n",
              "      <td>1</td>\n",
              "      <td>0</td>\n",
              "      <td>0</td>\n",
              "    </tr>\n",
              "  </tbody>\n",
              "</table>\n",
              "</div>"
            ],
            "text/plain": [
              "             Survived  Pclass   Age     Fare  FamilySize  Female  Male  \\\n",
              "PassengerId                                                              \n",
              "1                   0       3  22.0   7.2500           2       0     1   \n",
              "2                   1       1  38.0  71.2833           2       1     0   \n",
              "3                   1       3  26.0   7.9250           1       1     0   \n",
              "4                   1       1  35.0  53.1000           2       1     0   \n",
              "5                   0       3  35.0   8.0500           1       0     1   \n",
              "\n",
              "             Embarked_C  Embarked_Q  Embarked_S  Master  Miss  Mr  Mrs  \\\n",
              "PassengerId                                                              \n",
              "1                     0           0           1       0     0   1    0   \n",
              "2                     1           0           0       0     0   0    1   \n",
              "3                     0           0           1       0     1   0    0   \n",
              "4                     0           0           1       0     0   0    1   \n",
              "5                     0           0           1       0     0   1    0   \n",
              "\n",
              "             Others_Titles  \n",
              "PassengerId                 \n",
              "1                        0  \n",
              "2                        0  \n",
              "3                        0  \n",
              "4                        0  \n",
              "5                        0  "
            ]
          },
          "execution_count": 480,
          "metadata": {},
          "output_type": "execute_result"
        }
      ],
      "source": [
        "titanic.head()"
      ]
    },
    {
      "cell_type": "markdown",
      "id": "1b35bf73",
      "metadata": {
        "id": "1b35bf73"
      },
      "source": [
        "Al final del preprocesamiento tenemos un dataset con todos los features numéricos, lo que nos va a permitir utilizar la mayoría de las técnicas de Machine Learning\n",
        "\n",
        "Ahora que tenemos un dataset preprocesado podemos dividirlo en: dataset de entrenamiento, dataset de validación y dataset de testeo."
      ]
    },
    {
      "cell_type": "code",
      "execution_count": null,
      "id": "ba84d0f9",
      "metadata": {
        "id": "ba84d0f9"
      },
      "outputs": [],
      "source": [
        "# Separamos X (los features) de y (el label)\n",
        "label = ['Survived']\n",
        "features = titanic.columns.values[titanic.columns.values !='Survived']\n",
        "X = titanic[features]\n",
        "y = titanic[label]"
      ]
    },
    {
      "cell_type": "code",
      "execution_count": null,
      "id": "90d5dacd",
      "metadata": {
        "id": "90d5dacd",
        "outputId": "decb2bcf-3fd7-440f-f2d3-ddcd9e9182f2"
      },
      "outputs": [
        {
          "data": {
            "text/html": [
              "<div>\n",
              "<style scoped>\n",
              "    .dataframe tbody tr th:only-of-type {\n",
              "        vertical-align: middle;\n",
              "    }\n",
              "\n",
              "    .dataframe tbody tr th {\n",
              "        vertical-align: top;\n",
              "    }\n",
              "\n",
              "    .dataframe thead th {\n",
              "        text-align: right;\n",
              "    }\n",
              "</style>\n",
              "<table border=\"1\" class=\"dataframe\">\n",
              "  <thead>\n",
              "    <tr style=\"text-align: right;\">\n",
              "      <th></th>\n",
              "      <th>Pclass</th>\n",
              "      <th>Age</th>\n",
              "      <th>Fare</th>\n",
              "      <th>FamilySize</th>\n",
              "      <th>Female</th>\n",
              "      <th>Male</th>\n",
              "      <th>Embarked_C</th>\n",
              "      <th>Embarked_Q</th>\n",
              "      <th>Embarked_S</th>\n",
              "      <th>Master</th>\n",
              "      <th>Miss</th>\n",
              "      <th>Mr</th>\n",
              "      <th>Mrs</th>\n",
              "      <th>Others_Titles</th>\n",
              "    </tr>\n",
              "    <tr>\n",
              "      <th>PassengerId</th>\n",
              "      <th></th>\n",
              "      <th></th>\n",
              "      <th></th>\n",
              "      <th></th>\n",
              "      <th></th>\n",
              "      <th></th>\n",
              "      <th></th>\n",
              "      <th></th>\n",
              "      <th></th>\n",
              "      <th></th>\n",
              "      <th></th>\n",
              "      <th></th>\n",
              "      <th></th>\n",
              "      <th></th>\n",
              "    </tr>\n",
              "  </thead>\n",
              "  <tbody>\n",
              "    <tr>\n",
              "      <th>1</th>\n",
              "      <td>3</td>\n",
              "      <td>22.0</td>\n",
              "      <td>7.2500</td>\n",
              "      <td>2</td>\n",
              "      <td>0</td>\n",
              "      <td>1</td>\n",
              "      <td>0</td>\n",
              "      <td>0</td>\n",
              "      <td>1</td>\n",
              "      <td>0</td>\n",
              "      <td>0</td>\n",
              "      <td>1</td>\n",
              "      <td>0</td>\n",
              "      <td>0</td>\n",
              "    </tr>\n",
              "    <tr>\n",
              "      <th>2</th>\n",
              "      <td>1</td>\n",
              "      <td>38.0</td>\n",
              "      <td>71.2833</td>\n",
              "      <td>2</td>\n",
              "      <td>1</td>\n",
              "      <td>0</td>\n",
              "      <td>1</td>\n",
              "      <td>0</td>\n",
              "      <td>0</td>\n",
              "      <td>0</td>\n",
              "      <td>0</td>\n",
              "      <td>0</td>\n",
              "      <td>1</td>\n",
              "      <td>0</td>\n",
              "    </tr>\n",
              "    <tr>\n",
              "      <th>3</th>\n",
              "      <td>3</td>\n",
              "      <td>26.0</td>\n",
              "      <td>7.9250</td>\n",
              "      <td>1</td>\n",
              "      <td>1</td>\n",
              "      <td>0</td>\n",
              "      <td>0</td>\n",
              "      <td>0</td>\n",
              "      <td>1</td>\n",
              "      <td>0</td>\n",
              "      <td>1</td>\n",
              "      <td>0</td>\n",
              "      <td>0</td>\n",
              "      <td>0</td>\n",
              "    </tr>\n",
              "    <tr>\n",
              "      <th>4</th>\n",
              "      <td>1</td>\n",
              "      <td>35.0</td>\n",
              "      <td>53.1000</td>\n",
              "      <td>2</td>\n",
              "      <td>1</td>\n",
              "      <td>0</td>\n",
              "      <td>0</td>\n",
              "      <td>0</td>\n",
              "      <td>1</td>\n",
              "      <td>0</td>\n",
              "      <td>0</td>\n",
              "      <td>0</td>\n",
              "      <td>1</td>\n",
              "      <td>0</td>\n",
              "    </tr>\n",
              "    <tr>\n",
              "      <th>5</th>\n",
              "      <td>3</td>\n",
              "      <td>35.0</td>\n",
              "      <td>8.0500</td>\n",
              "      <td>1</td>\n",
              "      <td>0</td>\n",
              "      <td>1</td>\n",
              "      <td>0</td>\n",
              "      <td>0</td>\n",
              "      <td>1</td>\n",
              "      <td>0</td>\n",
              "      <td>0</td>\n",
              "      <td>1</td>\n",
              "      <td>0</td>\n",
              "      <td>0</td>\n",
              "    </tr>\n",
              "  </tbody>\n",
              "</table>\n",
              "</div>"
            ],
            "text/plain": [
              "             Pclass   Age     Fare  FamilySize  Female  Male  Embarked_C  \\\n",
              "PassengerId                                                                \n",
              "1                 3  22.0   7.2500           2       0     1           0   \n",
              "2                 1  38.0  71.2833           2       1     0           1   \n",
              "3                 3  26.0   7.9250           1       1     0           0   \n",
              "4                 1  35.0  53.1000           2       1     0           0   \n",
              "5                 3  35.0   8.0500           1       0     1           0   \n",
              "\n",
              "             Embarked_Q  Embarked_S  Master  Miss  Mr  Mrs  Others_Titles  \n",
              "PassengerId                                                                \n",
              "1                     0           1       0     0   1    0              0  \n",
              "2                     0           0       0     0   0    1              0  \n",
              "3                     0           1       0     1   0    0              0  \n",
              "4                     0           1       0     0   0    1              0  \n",
              "5                     0           1       0     0   1    0              0  "
            ]
          },
          "execution_count": 510,
          "metadata": {},
          "output_type": "execute_result"
        }
      ],
      "source": [
        "X.head()"
      ]
    },
    {
      "cell_type": "code",
      "execution_count": null,
      "id": "a54af767",
      "metadata": {
        "id": "a54af767",
        "outputId": "dc109369-364b-4c97-9924-2a75c01e0d16"
      },
      "outputs": [
        {
          "data": {
            "text/html": [
              "<div>\n",
              "<style scoped>\n",
              "    .dataframe tbody tr th:only-of-type {\n",
              "        vertical-align: middle;\n",
              "    }\n",
              "\n",
              "    .dataframe tbody tr th {\n",
              "        vertical-align: top;\n",
              "    }\n",
              "\n",
              "    .dataframe thead th {\n",
              "        text-align: right;\n",
              "    }\n",
              "</style>\n",
              "<table border=\"1\" class=\"dataframe\">\n",
              "  <thead>\n",
              "    <tr style=\"text-align: right;\">\n",
              "      <th></th>\n",
              "      <th>Survived</th>\n",
              "    </tr>\n",
              "    <tr>\n",
              "      <th>PassengerId</th>\n",
              "      <th></th>\n",
              "    </tr>\n",
              "  </thead>\n",
              "  <tbody>\n",
              "    <tr>\n",
              "      <th>1</th>\n",
              "      <td>0</td>\n",
              "    </tr>\n",
              "    <tr>\n",
              "      <th>2</th>\n",
              "      <td>1</td>\n",
              "    </tr>\n",
              "    <tr>\n",
              "      <th>3</th>\n",
              "      <td>1</td>\n",
              "    </tr>\n",
              "    <tr>\n",
              "      <th>4</th>\n",
              "      <td>1</td>\n",
              "    </tr>\n",
              "    <tr>\n",
              "      <th>5</th>\n",
              "      <td>0</td>\n",
              "    </tr>\n",
              "  </tbody>\n",
              "</table>\n",
              "</div>"
            ],
            "text/plain": [
              "             Survived\n",
              "PassengerId          \n",
              "1                   0\n",
              "2                   1\n",
              "3                   1\n",
              "4                   1\n",
              "5                   0"
            ]
          },
          "execution_count": 511,
          "metadata": {},
          "output_type": "execute_result"
        }
      ],
      "source": [
        "y.head()"
      ]
    },
    {
      "cell_type": "markdown",
      "id": "157c91cf",
      "metadata": {
        "id": "157c91cf"
      },
      "source": [
        "A continuación importamos el método train_test_split() de Scikit-Learn que facilita el proceso de división del dataset.\n",
        "\n",
        "Dado que el método train_test_split() solamente divide el dataset en dos (un dataset de entrenamiento y otro de testing) y nosotros queremos tener además un dataset más para realizar la validación de nuestro algortimo antes de hacer el testo final, en este ejemplo utilizamos el método dos veces:\n",
        "- Primero, sobre nuestro dataset original para obtener el dataset de entrenamiento (que comprende el 80% de los datos)\n",
        "- Luego, de ese 80% volvemos a dividir en dos para obtener un 20% más y reservarlo para validación.\n",
        "\n",
        "Es decir, reservamos un 60% para entrenamiento, un 20% para validación y un 20% para testeo.\n"
      ]
    },
    {
      "cell_type": "code",
      "execution_count": null,
      "id": "efef5754",
      "metadata": {
        "id": "efef5754"
      },
      "outputs": [],
      "source": [
        "from sklearn.model_selection import train_test_split\n",
        "X_train, X_test, y_train, y_test = train_test_split(X, y, test_size=0.2, random_state=1)\n",
        "\n",
        "X_train, X_val, y_train, y_val = train_test_split(X_train, y_train, test_size=0.25, random_state=1) # 0.25 x 0.8 = 0.2"
      ]
    },
    {
      "cell_type": "code",
      "execution_count": null,
      "id": "7ea3d688",
      "metadata": {
        "id": "7ea3d688",
        "outputId": "f71976c9-afba-48dd-e7ca-19a78c8778c2"
      },
      "outputs": [
        {
          "name": "stdout",
          "output_type": "stream",
          "text": [
            "Tamaño de X_train: (534, 14) - y_train: (534, 1)\n",
            "Tamaño de X_val: (178, 14) - y_val: (178, 1)\n",
            "Tamaño de X_test: (179, 14) - y_test: (179, 1)\n"
          ]
        }
      ],
      "source": [
        "print('Tamaño de X_train:', X_train.shape,'- y_train:', y_train.shape)\n",
        "print('Tamaño de X_val:',X_val.shape,'- y_val:', y_val.shape)\n",
        "print('Tamaño de X_test:',X_test.shape,'- y_test:', y_test.shape)"
      ]
    },
    {
      "cell_type": "markdown",
      "id": "cbeb616c",
      "metadata": {
        "id": "cbeb616c"
      },
      "source": [
        "### Conclusiones\n",
        "\n",
        "En este ejemplo usamos el dataset del Titanic para hacer el preprocesamiento de los datos. Analizamos sus features, filtramos aquellos que presentaban muchos valores faltantes, seleccionamos los más relevantes, creamos nuevos features en base a los existentes.\n",
        "\n",
        "Analizamos las correlaciones entre los distintos features y entre el label. Además analizamos graficamente las estadisticas de los distintos features, en relacion al Label y a otros features. Trabajamos con features categóricos y usamos One-Hot Encoding para poder usarlos en algortimos de ML que sólo funcionan con datos numéricos.\n",
        "\n",
        "Finalmente, dividimos el dataset en training, dev (o validation), testing y dejamos todo listo para poder desarrollar un algoritmo de ML que sea capaz de predecir nuestro Label."
      ]
    },
    {
      "cell_type": "code",
      "execution_count": null,
      "id": "0e7eeaa8",
      "metadata": {
        "id": "0e7eeaa8"
      },
      "outputs": [],
      "source": []
    }
  ],
  "metadata": {
    "kernelspec": {
      "display_name": "Python 3 (ipykernel)",
      "language": "python",
      "name": "python3"
    },
    "language_info": {
      "codemirror_mode": {
        "name": "ipython",
        "version": 3
      },
      "file_extension": ".py",
      "mimetype": "text/x-python",
      "name": "python",
      "nbconvert_exporter": "python",
      "pygments_lexer": "ipython3",
      "version": "3.9.7"
    },
    "colab": {
      "provenance": []
    }
  },
  "nbformat": 4,
  "nbformat_minor": 5
}